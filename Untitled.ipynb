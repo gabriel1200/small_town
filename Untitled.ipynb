{
 "cells": [
  {
   "cell_type": "code",
   "execution_count": 16,
   "metadata": {},
   "outputs": [
    {
     "name": "stdout",
     "output_type": "stream",
     "text": [
      "  state    numcol  yieldpercol   totalprod      stocks  priceperlb  \\\n",
      "0    AL   16000.0           71   1136000.0    159000.0        0.72   \n",
      "1    AZ   55000.0           60   3300000.0   1485000.0        0.64   \n",
      "2    AR   53000.0           65   3445000.0   1688000.0        0.59   \n",
      "3    CA  450000.0           83  37350000.0  12326000.0        0.62   \n",
      "4    CO   27000.0           72   1944000.0   1594000.0        0.70   \n",
      "\n",
      "    prodvalue  year  \n",
      "0    818000.0  1998  \n",
      "1   2112000.0  1998  \n",
      "2   2033000.0  1998  \n",
      "3  23157000.0  1998  \n",
      "4   1361000.0  1998  \n",
      "    year     totalprod\n",
      "0   1998  5.105093e+06\n",
      "1   1999  4.706674e+06\n",
      "2   2000  5.106000e+06\n",
      "3   2001  4.221545e+06\n",
      "4   2002  3.892386e+06\n",
      "5   2003  4.122091e+06\n",
      "6   2004  4.456805e+06\n",
      "7   2005  4.243146e+06\n",
      "8   2006  3.761902e+06\n",
      "9   2007  3.600512e+06\n",
      "10  2008  3.974927e+06\n",
      "11  2009  3.626700e+06\n",
      "12  2010  4.382350e+06\n",
      "13  2011  3.680025e+06\n",
      "14  2012  3.522675e+06\n"
     ]
    },
    {
     "data": {
      "image/png": "[encoded data removed]",
      "text/plain": [
       "<Figure size 432x288 with 1 Axes>"
      ]
     },
     "metadata": {},
     "output_type": "display_data"
    },
    {
     "name": "stdout",
     "output_type": "stream",
     "text": [
      "[[-88303.18915238]]\n"
     ]
    },
    {
     "data": {
      "image/png": "[encoded data removed]",
      "text/plain": [
       "<Figure size 432x288 with 1 Axes>"
      ]
     },
     "metadata": {},
     "output_type": "display_data"
    },
    {
     "name": "stdout",
     "output_type": "stream",
     "text": [
      "[[2013 2014 2015 2016 2017 2018 2019 2020 2021 2022 2023 2024 2025 2026\n",
      "  2027 2028 2029 2030 2031 2032 2033 2034 2035 2036 2037 2038 2039 2040\n",
      "  2041 2042 2043 2044 2045 2046 2047 2048 2049 2050]]\n",
      "[[ 4778311.18087068]\n",
      " [ 4690007.99171829]\n",
      " [ 4601704.8025659 ]\n",
      " [ 4513401.61341354]\n",
      " [ 4425098.42426115]\n",
      " [ 4336795.23510876]\n",
      " [ 4248492.04595637]\n",
      " [ 4160188.85680401]\n",
      " [ 4071885.66765162]\n",
      " [ 3983582.47849923]\n",
      " [ 3895279.28934684]\n",
      " [ 3806976.10019448]\n",
      " [ 3718672.91104209]\n",
      " [ 3630369.7218897 ]\n",
      " [ 3542066.53273734]]\n"
     ]
    }
   ],
   "source": [
    "import pandas as pd\n",
    "import matplotlib.pyplot as plt\n",
    "import numpy as np\n",
    "from sklearn import linear_model\n",
    "from sklearn.linear_model import LinearRegression\n",
    "\n",
    "df = pd.read_csv(\"https://s3.amazonaws.com/codecademy-content/programs/data-science-path/linear_regression/honeyproduction.csv\")\n",
    "\n",
    "print (df.head())\n",
    "\n",
    "prod_per_year = df.groupby('year').totalprod.mean().reset_index()\n",
    "\n",
    "print (prod_per_year)\n",
    "\n",
    "X = prod_per_year[['year']]\n",
    "\n",
    "\n",
    "X = X.values.reshape(-1, 1)\n",
    "\n",
    "y = prod_per_year[['totalprod']]\n",
    "\n",
    "plt.scatter(X,y)\n",
    "plt.show()\n",
    "\n",
    "regr = linear_model.LinearRegression()\n",
    "regr.fit(X,y)\n",
    "\n",
    "print(regr.coef_)\n",
    "\n",
    "y_predict = regr.predict(X)\n",
    "\n",
    "plt.plot(X,y_predict)\n",
    "plt.show()\n",
    "\n",
    "X_future = np.array(range(2013,2051))\n",
    "\n",
    "\n",
    "\n",
    "X_future = X_future.reshape(1,-1) \n",
    "\n",
    "print (X_future)\n",
    "future_predict = regr.predict(X)\n",
    "print(future_predict)"
   ]
  },
  {
   "cell_type": "code",
   "execution_count": null,
   "metadata": {
    "collapsed": true
   },
   "outputs": [],
   "source": []
  },
  {
   "cell_type": "code",
   "execution_count": null,
   "metadata": {
    "collapsed": true
   },
   "outputs": [],
   "source": []
  }
 ],
 "metadata": {
  "kernelspec": {
   "display_name": "Python 3",
   "language": "python",
   "name": "python3"
  },
  "language_info": {
   "codemirror_mode": {
    "name": "ipython",
    "version": 3
   },
   "file_extension": ".py",
   "mimetype": "text/x-python",
   "name": "python",
   "nbconvert_exporter": "python",
   "pygments_lexer": "ipython3",
   "version": "3.6.3"
  }
 },
 "nbformat": 4,
 "nbformat_minor": 2
}
