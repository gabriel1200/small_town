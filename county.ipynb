{
 "cells": [
  {
   "cell_type": "code",
   "execution_count": null,
   "metadata": {},
   "outputs": [],
   "source": [
    "\n",
    "key =\"2201050767bb417f928e06c7166304c6b41e485d\"\n",
    "from census import Census\n",
    "from us import states\n",
    "%matplotlib inline\n",
    "    \n",
    "import matplotlib.pyplot as plt\n",
    "import numpy as np\n",
    "import requests\n",
    "import pandas as pd\n",
    "pd.options.mode.chained_assignment = None \n",
    "import os\n",
    "import requests\n",
    "import urllib.request, json \n",
    "\n",
    "\n",
    "c = Census(key)\n",
    "temp = \"B15003_009E\"\n",
    "x = c.acs5.state((\"NAME\",\"B23025_002E\",\"B23025_005E\",\"B23025_004E\"),\"01\")\n",
    "x[0][\"B23025_005E\"]/x[0][\"B23025_002E\"]\n"
   ]
  },
  {
   "cell_type": "code",
   "execution_count": null,
   "metadata": {
    "collapsed": true
   },
   "outputs": [],
   "source": [
    "x = c.acs5.get(('NAME', 'B01003_001E','B05002_013E','B05002_013M','B01002_001E','B01002_001M',\n",
    "                'B03002_003E','B03002_004E','B03002_005E','B03002_006E','B03002_009E',\n",
    "                'B03002_007E','B03002_008E','B06012_002E','B05010_001E','B19013_001E','B08303_001E',\n",
    "                'B08303_002E',\n",
    "               'B08303_003E','B08303_004E','B08303_005E','B08303_006E','B08303_007E','B08303_008E',\n",
    "               'B08303_009E','B08303_010E','B08303_011E','B08303_012E','B08303_013E',\n",
    "                'B06009_001E','B06009_002E','B06009_003E','B06009_004E','B06009_005E','B06009_006E',\n",
    "                \"B19013_001E\",\n",
    "                \"B01001_003E\",\"B01001_004E\",\"B01001_005E\",\"B01001_006E\",\"B01001_027E\"\n",
    "                ,\"B01001_028E\",\"B01001_029E\",\"B01001_030E\",\"B17012_019E\",\"B08131_001E\",\"B23025_005E\",\n",
    "                \"B23025_002E\"\n",
    "                \n",
    "               ),\n",
    "          {'for': '{}'.format(\"county\")})\n"
   ]
  },
  {
   "cell_type": "code",
   "execution_count": null,
   "metadata": {},
   "outputs": [],
   "source": [
    "new_df =pd.DataFrame(x)\n",
    "new_df.head()"
   ]
  },
  {
   "cell_type": "code",
   "execution_count": null,
   "metadata": {
    "collapsed": true
   },
   "outputs": [],
   "source": [
    "new_df = new_df.rename(index=str, columns={ \"NAME\":\"Name\", 'B05002_013E':\"Foreign Born\",'B03002_007E':'Native Hawaiian',\n",
    "                                           \"B01003_001E\":\"Population\",\"state\":\"State\",\n",
    "                                           \"county\": \"County\",'B01002_001E': 'Median Age', \n",
    "                                           \"B05002_013E\":\"Foreign Born\",\n",
    "                                           \"B05002_013M\": \"Foreign Born ME\", 'B01002_001M':\n",
    "                                           'Median Age ME','B03002_003E':'White',\n",
    "                                         'B03002_004E':'Black','B03002_005E':'Native American',\n",
    "                                         'B03002_006E':'Asian','B03002_012E':'Hispanic',\n",
    "                                         'B03002_008E':'Other','B03002_009E':'Multiple',\n",
    "                                         'B19013_001E':'Median Household Income',\n",
    "                                         'B05010_001E':'Child Poverty Ratio','B06012_002E':'Poor',\n",
    "                                           \"B08131_001E\":\"agg_travel_time\", \"B23025_005E\": 'acs_unemployed',\n",
    "                                           'B23025_002E':'acs_laborf'\n",
    "                                        \n",
    "                                        })\n",
    "new_df = new_df.rename(index=str, columns={ 'B08303_002E':'under5','B08303_003E':'five',\n",
    "                                          'B08303_004E':'ten','B08303_005E':'fifteen',\n",
    "                                           'B08303_006E':'twenty','B08303_007E':'twenty5',\n",
    "                                           'B08303_008E':'thirty','B08303_009E':'thirty5',\n",
    "                                          'B08303_010E':'fourty','B08303_011E':'fourty5',\n",
    "                                          'B08303_012E':'sixty','B08303_013E':'ninety',\n",
    "                                           'B08303_001E':'work_time', \n",
    "                                           'B19013_001E':'median_household_income',\n",
    "                                           'B17012_019E':'h_above_poverty'\n",
    "                                           \n",
    "                                          } )\n",
    "new_df = new_df.rename(index=str, columns={ 'B06009_001E':'total_ed','B06009_002E':'below_hs',\n",
    "                                           'B06009_003E':'hs_grad','B06009_004E':'some_college',\n",
    "                                           'B06009_005E':'bachelor_deg','B06009_006E':'graduate_deg' })\n",
    "                                           \n",
    "new_df[\"Population\"] = new_df[\"Population\"].astype(int)\n",
    "new_df = new_df.sort_values(by='Population', ascending = True)\n",
    "new_df[\"under_18\"] = new_df[\"B01001_027E\"] + new_df[\"B01001_028E\"] + new_df[\"B01001_029E\"] + new_df[\"B01001_030E\"] + new_df[\"B01001_003E\"] + new_df[\"B01001_004E\"] + new_df[\"B01001_005E\"] + new_df[\"B01001_006E\"] \n"
   ]
  },
  {
   "cell_type": "code",
   "execution_count": null,
   "metadata": {
    "collapsed": true
   },
   "outputs": [],
   "source": [
    "new_df.to_csv(\"final_county.csv\")"
   ]
  },
  {
   "cell_type": "code",
   "execution_count": null,
   "metadata": {
    "collapsed": true
   },
   "outputs": [],
   "source": []
  }
 ],
 "metadata": {
  "kernelspec": {
   "display_name": "Python 3",
   "language": "python",
   "name": "python3"
  },
  "language_info": {
   "codemirror_mode": {
    "name": "ipython",
    "version": 3
   },
   "file_extension": ".py",
   "mimetype": "text/x-python",
   "name": "python",
   "nbconvert_exporter": "python",
   "pygments_lexer": "ipython3",
   "version": "3.6.3"
  }
 },
 "nbformat": 4,
 "nbformat_minor": 2
}
