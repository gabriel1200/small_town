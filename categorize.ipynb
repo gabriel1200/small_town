{
 "cells": [
  {
   "cell_type": "code",
   "execution_count": 1,
   "metadata": {
    "collapsed": true
   },
   "outputs": [],
   "source": [
    "\n",
    "key =\"2201050767bb417f928e06c7166304c6b41e485d\"\n",
    "b_key =\"641DEDB0-361B-441D-BF2E-215378D97EB4\"\n",
    "from census import Census\n",
    "from us import states\n",
    "%matplotlib inline\n",
    "import seaborn as sns\n",
    "\n",
    "\n",
    "import matplotlib.pyplot as plt\n",
    "import numpy as np\n",
    "import requests\n",
    "import pandas as pd\n",
    "pd.options.mode.chained_assignment = None \n",
    "import os\n",
    "import requests\n",
    "import urllib.request, json \n",
    "import pybea\n",
    "\n",
    "\n",
    "c = Census(key)\n"
   ]
  },
  {
   "cell_type": "code",
   "execution_count": 2,
   "metadata": {
    "collapsed": true
   },
   "outputs": [],
   "source": [
    "\n",
    "\n",
    "data = pybea.get_data(b_key,\n",
    "                      DataSetName='RegionalIncome',\n",
    "                      TableName='CA1',\n",
    "                      LineCode=1,\n",
    "                      GeoFips='COUNTY',\n",
    "                      Year=[ '2016'],\n",
    "                      ResultFormat='JSON')\n",
    "data = pd.DataFrame(data)\n",
    "data =data.drop_duplicates()\n",
    "data = data.rename(index =str, columns = {\"GeoFips\":\"geo_id\",\"DataValue\":\"income_p_capita\"})\n",
    "data = data.drop([\"CL_UNIT\",\"Code\",\"NoteRef\",\"TimePeriod\",\"UNIT_MULT\"], axis = 1)\n",
    "\n"
   ]
  },
  {
   "cell_type": "code",
   "execution_count": 3,
   "metadata": {
    "collapsed": true
   },
   "outputs": [],
   "source": [
    "df = pd.read_excel(\"County_Rural_Lookup.xlsx\")\n",
    "df = df.drop(\"Unnamed: 8\", axis =1)\n"
   ]
  },
  {
   "cell_type": "code",
   "execution_count": 4,
   "metadata": {
    "collapsed": true
   },
   "outputs": [],
   "source": [
    "df.columns = df.iloc[2]\n",
    "df = df.drop([0, 1,2])\n",
    "df = df.drop([3145, 3146,3147,3148,3149,3150])\n",
    "df = df.rename(columns ={\"2010 Census \\nPercent Rural\":\"percent_rural\"})\n",
    "df = df.rename(columns = {\"2015 GEOID\": \"geo_id\"} )\n"
   ]
  },
  {
   "cell_type": "code",
   "execution_count": 5,
   "metadata": {},
   "outputs": [
    {
     "data": {
      "text/plain": [
       "704"
      ]
     },
     "execution_count": 5,
     "metadata": {},
     "output_type": "execute_result"
    }
   ],
   "source": [
    "rural = df[df.percent_rural >= 99.9]\n",
    "\n",
    "len(rural)"
   ]
  },
  {
   "cell_type": "code",
   "execution_count": 6,
   "metadata": {},
   "outputs": [
    {
     "data": {
      "text/plain": [
       "1185"
      ]
     },
     "execution_count": 6,
     "metadata": {},
     "output_type": "execute_result"
    }
   ],
   "source": [
    "m_rural = df[(df.percent_rural < 99.9) & (df.percent_rural > 49.9 )]\n",
    "len(m_rural)"
   ]
  },
  {
   "cell_type": "code",
   "execution_count": 7,
   "metadata": {},
   "outputs": [
    {
     "data": {
      "text/plain": [
       "1253"
      ]
     },
     "execution_count": 7,
     "metadata": {},
     "output_type": "execute_result"
    }
   ],
   "source": [
    "urban = df[df.percent_rural <= 49.9]\n",
    "len(urban)"
   ]
  },
  {
   "cell_type": "code",
   "execution_count": 8,
   "metadata": {
    "collapsed": true,
    "scrolled": false
   },
   "outputs": [],
   "source": [
    "areas = pd.read_csv(\"final_county.csv\")\n"
   ]
  },
  {
   "cell_type": "code",
   "execution_count": 9,
   "metadata": {
    "collapsed": true
   },
   "outputs": [],
   "source": [
    "areas = areas.drop([\"Unnamed: 0\" ,\"B01001_003E\",\"B01001_004E\",\"B01001_005E\",\"B01001_006E\"\n",
    "                   ,\"B01001_027E\",\"B01001_028E\",\"B01001_029E\",\"B01001_030E\"],axis = 1)\n"
   ]
  },
  {
   "cell_type": "code",
   "execution_count": 10,
   "metadata": {
    "collapsed": true
   },
   "outputs": [],
   "source": [
    "areas.County = areas.County.astype(str)\n"
   ]
  },
  {
   "cell_type": "code",
   "execution_count": 11,
   "metadata": {
    "collapsed": true
   },
   "outputs": [],
   "source": [
    "areas['County'] = areas['County'].str.zfill(3)"
   ]
  },
  {
   "cell_type": "code",
   "execution_count": 12,
   "metadata": {
    "collapsed": true
   },
   "outputs": [],
   "source": [
    "areas.State = areas.State.astype(str)\n",
    "areas['State'] = areas['State'].str.zfill(2)\n"
   ]
  },
  {
   "cell_type": "code",
   "execution_count": 13,
   "metadata": {
    "collapsed": true
   },
   "outputs": [],
   "source": [
    "areas[\"geo_id\"] = areas.State + areas.County\n"
   ]
  },
  {
   "cell_type": "code",
   "execution_count": 14,
   "metadata": {},
   "outputs": [
    {
     "data": {
      "text/html": [
       "<div>\n",
       "<style>\n",
       "    .dataframe thead tr:only-child th {\n",
       "        text-align: right;\n",
       "    }\n",
       "\n",
       "    .dataframe thead th {\n",
       "        text-align: left;\n",
       "    }\n",
       "\n",
       "    .dataframe tbody tr th {\n",
       "        vertical-align: top;\n",
       "    }\n",
       "</style>\n",
       "<table border=\"1\" class=\"dataframe\">\n",
       "  <thead>\n",
       "    <tr style=\"text-align: right;\">\n",
       "      <th>3</th>\n",
       "      <th>LAUS Code</th>\n",
       "      <th>S_Code</th>\n",
       "      <th>Code</th>\n",
       "      <th>County Name/State Abbreviation</th>\n",
       "      <th>Period</th>\n",
       "      <th>Force</th>\n",
       "      <th>Employed</th>\n",
       "      <th>Unemployed</th>\n",
       "      <th>unemployment_rate</th>\n",
       "      <th>geo_id</th>\n",
       "    </tr>\n",
       "  </thead>\n",
       "  <tbody>\n",
       "    <tr>\n",
       "      <th>5</th>\n",
       "      <td>CN0100100000000</td>\n",
       "      <td>01</td>\n",
       "      <td>001</td>\n",
       "      <td>Autauga County, AL</td>\n",
       "      <td>Jun-17</td>\n",
       "      <td>26128</td>\n",
       "      <td>25015</td>\n",
       "      <td>1113</td>\n",
       "      <td>4.3</td>\n",
       "      <td>01001</td>\n",
       "    </tr>\n",
       "    <tr>\n",
       "      <th>6</th>\n",
       "      <td>CN0100300000000</td>\n",
       "      <td>01</td>\n",
       "      <td>003</td>\n",
       "      <td>Baldwin County, AL</td>\n",
       "      <td>Jun-17</td>\n",
       "      <td>94176</td>\n",
       "      <td>90303</td>\n",
       "      <td>3873</td>\n",
       "      <td>4.1</td>\n",
       "      <td>01003</td>\n",
       "    </tr>\n",
       "    <tr>\n",
       "      <th>7</th>\n",
       "      <td>CN0100500000000</td>\n",
       "      <td>01</td>\n",
       "      <td>005</td>\n",
       "      <td>Barbour County, AL</td>\n",
       "      <td>Jun-17</td>\n",
       "      <td>8328</td>\n",
       "      <td>7799</td>\n",
       "      <td>529</td>\n",
       "      <td>6.4</td>\n",
       "      <td>01005</td>\n",
       "    </tr>\n",
       "    <tr>\n",
       "      <th>8</th>\n",
       "      <td>CN0100700000000</td>\n",
       "      <td>01</td>\n",
       "      <td>007</td>\n",
       "      <td>Bibb County, AL</td>\n",
       "      <td>Jun-17</td>\n",
       "      <td>8557</td>\n",
       "      <td>8139</td>\n",
       "      <td>418</td>\n",
       "      <td>4.9</td>\n",
       "      <td>01007</td>\n",
       "    </tr>\n",
       "    <tr>\n",
       "      <th>9</th>\n",
       "      <td>CN0100900000000</td>\n",
       "      <td>01</td>\n",
       "      <td>009</td>\n",
       "      <td>Blount County, AL</td>\n",
       "      <td>Jun-17</td>\n",
       "      <td>24626</td>\n",
       "      <td>23533</td>\n",
       "      <td>1093</td>\n",
       "      <td>4.4</td>\n",
       "      <td>01009</td>\n",
       "    </tr>\n",
       "  </tbody>\n",
       "</table>\n",
       "</div>"
      ],
      "text/plain": [
       "3        LAUS Code S_Code Code County Name/State Abbreviation  Period  Force  \\\n",
       "5  CN0100100000000     01  001             Autauga County, AL  Jun-17  26128   \n",
       "6  CN0100300000000     01  003             Baldwin County, AL  Jun-17  94176   \n",
       "7  CN0100500000000     01  005             Barbour County, AL  Jun-17   8328   \n",
       "8  CN0100700000000     01  007                Bibb County, AL  Jun-17   8557   \n",
       "9  CN0100900000000     01  009              Blount County, AL  Jun-17  24626   \n",
       "\n",
       "3 Employed Unemployed unemployment_rate geo_id  \n",
       "5    25015       1113               4.3  01001  \n",
       "6    90303       3873               4.1  01003  \n",
       "7     7799        529               6.4  01005  \n",
       "8     8139        418               4.9  01007  \n",
       "9    23533       1093               4.4  01009  "
      ]
     },
     "execution_count": 14,
     "metadata": {},
     "output_type": "execute_result"
    }
   ],
   "source": [
    "unemployment = pd.read_excel(\"laucntycur14.xlsx\")\n",
    "unemployment.columns = unemployment.iloc[3]\n",
    "\n",
    "unemployment = unemployment.drop([0, 1,2,3,4])\n",
    "\n",
    "unemployment = unemployment.rename(index=str,columns ={\"(%)\":\"unemployment_rate\"})\n",
    "unemployment[\"geo_id\"] = unemployment[\"S_Code\"] + unemployment[\"Code\"]\n",
    "unemployment.head()\n"
   ]
  },
  {
   "cell_type": "code",
   "execution_count": 15,
   "metadata": {},
   "outputs": [
    {
     "data": {
      "text/html": [
       "<div>\n",
       "<style>\n",
       "    .dataframe thead tr:only-child th {\n",
       "        text-align: right;\n",
       "    }\n",
       "\n",
       "    .dataframe thead th {\n",
       "        text-align: left;\n",
       "    }\n",
       "\n",
       "    .dataframe tbody tr th {\n",
       "        vertical-align: top;\n",
       "    }\n",
       "</style>\n",
       "<table border=\"1\" class=\"dataframe\">\n",
       "  <thead>\n",
       "    <tr style=\"text-align: right;\">\n",
       "      <th></th>\n",
       "      <th>Median Age</th>\n",
       "      <th>Median Age ME</th>\n",
       "      <th>Population</th>\n",
       "      <th>White</th>\n",
       "      <th>Black</th>\n",
       "      <th>Native American</th>\n",
       "      <th>Asian</th>\n",
       "      <th>Native Hawaiian</th>\n",
       "      <th>Other</th>\n",
       "      <th>Multiple</th>\n",
       "      <th>...</th>\n",
       "      <th>ninety</th>\n",
       "      <th>h_above_poverty</th>\n",
       "      <th>Median Household Income</th>\n",
       "      <th>acs_laborf</th>\n",
       "      <th>acs_unemployed</th>\n",
       "      <th>Name</th>\n",
       "      <th>County</th>\n",
       "      <th>State</th>\n",
       "      <th>under_18</th>\n",
       "      <th>geo_id</th>\n",
       "    </tr>\n",
       "  </thead>\n",
       "  <tbody>\n",
       "    <tr>\n",
       "      <th>0</th>\n",
       "      <td>58.2</td>\n",
       "      <td>4.0</td>\n",
       "      <td>76</td>\n",
       "      <td>55.0</td>\n",
       "      <td>0.0</td>\n",
       "      <td>3.0</td>\n",
       "      <td>0.0</td>\n",
       "      <td>0.0</td>\n",
       "      <td>0.0</td>\n",
       "      <td>6.0</td>\n",
       "      <td>...</td>\n",
       "      <td>0.0</td>\n",
       "      <td>17.0</td>\n",
       "      <td>56875.0</td>\n",
       "      <td>39.0</td>\n",
       "      <td>0.0</td>\n",
       "      <td>Loving County, Texas</td>\n",
       "      <td>301</td>\n",
       "      <td>48</td>\n",
       "      <td>6.0</td>\n",
       "      <td>48301</td>\n",
       "    </tr>\n",
       "    <tr>\n",
       "      <th>1</th>\n",
       "      <td>56.5</td>\n",
       "      <td>8.6</td>\n",
       "      <td>91</td>\n",
       "      <td>29.0</td>\n",
       "      <td>0.0</td>\n",
       "      <td>0.0</td>\n",
       "      <td>21.0</td>\n",
       "      <td>28.0</td>\n",
       "      <td>0.0</td>\n",
       "      <td>10.0</td>\n",
       "      <td>...</td>\n",
       "      <td>0.0</td>\n",
       "      <td>13.0</td>\n",
       "      <td>65625.0</td>\n",
       "      <td>76.0</td>\n",
       "      <td>0.0</td>\n",
       "      <td>Kalawao County, Hawaii</td>\n",
       "      <td>005</td>\n",
       "      <td>15</td>\n",
       "      <td>1.0</td>\n",
       "      <td>15005</td>\n",
       "    </tr>\n",
       "    <tr>\n",
       "      <th>2</th>\n",
       "      <td>39.8</td>\n",
       "      <td>10.5</td>\n",
       "      <td>274</td>\n",
       "      <td>210.0</td>\n",
       "      <td>0.0</td>\n",
       "      <td>0.0</td>\n",
       "      <td>0.0</td>\n",
       "      <td>0.0</td>\n",
       "      <td>0.0</td>\n",
       "      <td>0.0</td>\n",
       "      <td>...</td>\n",
       "      <td>6.0</td>\n",
       "      <td>63.0</td>\n",
       "      <td>57083.0</td>\n",
       "      <td>171.0</td>\n",
       "      <td>7.0</td>\n",
       "      <td>King County, Texas</td>\n",
       "      <td>269</td>\n",
       "      <td>48</td>\n",
       "      <td>56.0</td>\n",
       "      <td>48269</td>\n",
       "    </tr>\n",
       "    <tr>\n",
       "      <th>3</th>\n",
       "      <td>48.0</td>\n",
       "      <td>5.2</td>\n",
       "      <td>425</td>\n",
       "      <td>413.0</td>\n",
       "      <td>0.0</td>\n",
       "      <td>0.0</td>\n",
       "      <td>0.0</td>\n",
       "      <td>0.0</td>\n",
       "      <td>0.0</td>\n",
       "      <td>8.0</td>\n",
       "      <td>...</td>\n",
       "      <td>2.0</td>\n",
       "      <td>112.0</td>\n",
       "      <td>53750.0</td>\n",
       "      <td>213.0</td>\n",
       "      <td>0.0</td>\n",
       "      <td>McPherson County, Nebraska</td>\n",
       "      <td>117</td>\n",
       "      <td>31</td>\n",
       "      <td>93.0</td>\n",
       "      <td>31117</td>\n",
       "    </tr>\n",
       "    <tr>\n",
       "      <th>4</th>\n",
       "      <td>41.0</td>\n",
       "      <td>6.0</td>\n",
       "      <td>437</td>\n",
       "      <td>426.0</td>\n",
       "      <td>0.0</td>\n",
       "      <td>0.0</td>\n",
       "      <td>0.0</td>\n",
       "      <td>0.0</td>\n",
       "      <td>1.0</td>\n",
       "      <td>10.0</td>\n",
       "      <td>...</td>\n",
       "      <td>4.0</td>\n",
       "      <td>99.0</td>\n",
       "      <td>40375.0</td>\n",
       "      <td>190.0</td>\n",
       "      <td>7.0</td>\n",
       "      <td>Arthur County, Nebraska</td>\n",
       "      <td>005</td>\n",
       "      <td>31</td>\n",
       "      <td>138.0</td>\n",
       "      <td>31005</td>\n",
       "    </tr>\n",
       "  </tbody>\n",
       "</table>\n",
       "<p>5 rows × 44 columns</p>\n",
       "</div>"
      ],
      "text/plain": [
       "   Median Age  Median Age ME  Population  White  Black  Native American  \\\n",
       "0        58.2            4.0          76   55.0    0.0              3.0   \n",
       "1        56.5            8.6          91   29.0    0.0              0.0   \n",
       "2        39.8           10.5         274  210.0    0.0              0.0   \n",
       "3        48.0            5.2         425  413.0    0.0              0.0   \n",
       "4        41.0            6.0         437  426.0    0.0              0.0   \n",
       "\n",
       "   Asian  Native Hawaiian  Other  Multiple   ...    ninety  h_above_poverty  \\\n",
       "0    0.0              0.0    0.0       6.0   ...       0.0             17.0   \n",
       "1   21.0             28.0    0.0      10.0   ...       0.0             13.0   \n",
       "2    0.0              0.0    0.0       0.0   ...       6.0             63.0   \n",
       "3    0.0              0.0    0.0       8.0   ...       2.0            112.0   \n",
       "4    0.0              0.0    1.0      10.0   ...       4.0             99.0   \n",
       "\n",
       "   Median Household Income  acs_laborf  acs_unemployed  \\\n",
       "0                  56875.0        39.0             0.0   \n",
       "1                  65625.0        76.0             0.0   \n",
       "2                  57083.0       171.0             7.0   \n",
       "3                  53750.0       213.0             0.0   \n",
       "4                  40375.0       190.0             7.0   \n",
       "\n",
       "                         Name  County  State  under_18  geo_id  \n",
       "0        Loving County, Texas     301     48       6.0   48301  \n",
       "1      Kalawao County, Hawaii     005     15       1.0   15005  \n",
       "2          King County, Texas     269     48      56.0   48269  \n",
       "3  McPherson County, Nebraska     117     31      93.0   31117  \n",
       "4     Arthur County, Nebraska     005     31     138.0   31005  \n",
       "\n",
       "[5 rows x 44 columns]"
      ]
     },
     "execution_count": 15,
     "metadata": {},
     "output_type": "execute_result"
    }
   ],
   "source": [
    "x = rural.loc[:, ['geo_id']]\n",
    "areas.head()"
   ]
  },
  {
   "cell_type": "code",
   "execution_count": 16,
   "metadata": {
    "collapsed": true
   },
   "outputs": [],
   "source": [
    "rural_result = pd.merge(x, areas, on='geo_id')"
   ]
  },
  {
   "cell_type": "code",
   "execution_count": 17,
   "metadata": {
    "collapsed": true,
    "scrolled": false
   },
   "outputs": [],
   "source": [
    "rural_result = pd.merge(rural_result,unemployment, on =\"geo_id\")\n",
    "\n",
    "rural_result = rural_result[rural_result[\"Period\"] == \"Jun-18\"]\n",
    "\n",
    "len(rural_result)\n",
    "rural_result.to_excel(\"final_rural.xlsx\")\n",
    "#df3 = df1[(~df1.col1.isin(common.col1))"
   ]
  },
  {
   "cell_type": "code",
   "execution_count": 18,
   "metadata": {
    "collapsed": true
   },
   "outputs": [],
   "source": [
    "data[\"geo_id\"] = data[\"geo_id\"].str.zfill(5)\n",
    "rural_result = pd.merge(rural_result,data, on =\"geo_id\")\n",
    "rural_result.to_excel(\"bea_final_rural.xlsx\")"
   ]
  },
  {
   "cell_type": "code",
   "execution_count": 19,
   "metadata": {},
   "outputs": [
    {
     "data": {
      "text/plain": [
       "703"
      ]
     },
     "execution_count": 19,
     "metadata": {},
     "output_type": "execute_result"
    }
   ],
   "source": [
    "len(rural_result)"
   ]
  },
  {
   "cell_type": "raw",
   "metadata": {},
   "source": [
    "x = urban.loc[:, ['geo_id']]\n",
    "urban_result = pd.merge(x, areas, on='geo_id')\n"
   ]
  },
  {
   "cell_type": "code",
   "execution_count": 20,
   "metadata": {},
   "outputs": [
    {
     "data": {
      "text/plain": [
       "1253"
      ]
     },
     "execution_count": 20,
     "metadata": {},
     "output_type": "execute_result"
    }
   ],
   "source": [
    "x = urban.loc[:, ['geo_id']]\n",
    "urban_result = pd.merge(x, areas, on='geo_id')\n",
    "len(urban_result)"
   ]
  },
  {
   "cell_type": "code",
   "execution_count": 21,
   "metadata": {
    "collapsed": true
   },
   "outputs": [],
   "source": [
    "urban_result = pd.merge(urban_result,unemployment, on =\"geo_id\")\n",
    "\n",
    "\n",
    "urban_result = urban_result[urban_result[\"Period\"] == \"Jun-18\"]\n",
    "len(urban_result)\n",
    "urban_result.to_excel(\"final_urban.xlsx\")"
   ]
  },
  {
   "cell_type": "code",
   "execution_count": 22,
   "metadata": {
    "scrolled": true
   },
   "outputs": [
    {
     "data": {
      "text/plain": [
       "1239"
      ]
     },
     "execution_count": 22,
     "metadata": {},
     "output_type": "execute_result"
    }
   ],
   "source": [
    "d = pd.read_excel(\"test_d_final.xlsx\")\n",
    "d[\"geo_id\"] = d[\"geo_id\"].astype(str)\n",
    "d[\"geo_id\"] = d[\"geo_id\"].str.zfill(5)\n",
    "\n",
    "test_urban = pd.merge(urban_result,d, on =\"geo_id\")\n",
    "test_urban.to_excel(\"beafinal_urban.xlsx\")\n",
    "len(test_urban)"
   ]
  },
  {
   "cell_type": "code",
   "execution_count": 23,
   "metadata": {
    "collapsed": true
   },
   "outputs": [],
   "source": [
    "x = m_rural.loc[:, ['geo_id']]\n",
    "m_rural_result = pd.merge(x, areas, on='geo_id')\n"
   ]
  },
  {
   "cell_type": "code",
   "execution_count": 24,
   "metadata": {
    "scrolled": true
   },
   "outputs": [],
   "source": [
    "m_rural_result = pd.merge(m_rural_result,unemployment, on =\"geo_id\")\n",
    "\n",
    "m_rural_result = m_rural_result[m_rural_result[\"Period\"] == \"Jun-18\"]\n",
    "m_rural_result.to_excel(\"final_mrural.xlsx\")\n",
    "testm_rural = pd.merge(m_rural, d, on =\"geo_id\")\n",
    "testm_rural.to_excel(\"beafinal_mrural.xlsx\")\n",
    "#y = pd.merge(m_rural_result, testm_rural, on =\"geo_id\", how = \"outer\",indicator = True)\n"
   ]
  },
  {
   "cell_type": "code",
   "execution_count": null,
   "metadata": {
    "collapsed": true
   },
   "outputs": [],
   "source": []
  },
  {
   "cell_type": "code",
   "execution_count": null,
   "metadata": {
    "collapsed": true
   },
   "outputs": [],
   "source": []
  },
  {
   "cell_type": "code",
   "execution_count": null,
   "metadata": {
    "collapsed": true
   },
   "outputs": [],
   "source": []
  },
  {
   "cell_type": "code",
   "execution_count": null,
   "metadata": {
    "collapsed": true
   },
   "outputs": [],
   "source": []
  },
  {
   "cell_type": "code",
   "execution_count": null,
   "metadata": {
    "collapsed": true
   },
   "outputs": [],
   "source": []
  }
 ],
 "metadata": {
  "kernelspec": {
   "display_name": "Python 3",
   "language": "python",
   "name": "python3"
  },
  "language_info": {
   "codemirror_mode": {
    "name": "ipython",
    "version": 3
   },
   "file_extension": ".py",
   "mimetype": "text/x-python",
   "name": "python",
   "nbconvert_exporter": "python",
   "pygments_lexer": "ipython3",
   "version": "3.6.3"
  }
 },
 "nbformat": 4,
 "nbformat_minor": 2
}
