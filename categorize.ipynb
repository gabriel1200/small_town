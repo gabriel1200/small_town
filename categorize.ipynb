{
 "cells": [
  {
   "cell_type": "code",
   "execution_count": null,
   "metadata": {
    "collapsed": true
   },
   "outputs": [],
   "source": [
    "\n",
    "key =\"2201050767bb417f928e06c7166304c6b41e485d\"\n",
    "b_key =\"641DEDB0-361B-441D-BF2E-215378D97EB4\"\n",
    "from census import Census\n",
    "from us import states\n",
    "%matplotlib inline\n",
    "import seaborn as sns\n",
    "\n",
    "\n",
    "import matplotlib.pyplot as plt\n",
    "import numpy as np\n",
    "import requests\n",
    "import pandas as pd\n",
    "pd.options.mode.chained_assignment = None \n",
    "import os\n",
    "import requests\n",
    "import urllib.request, json \n",
    "import pybea\n",
    "\n",
    "\n",
    "c = Census(key)\n"
   ]
  },
  {
   "cell_type": "code",
   "execution_count": 3,
   "metadata": {
    "collapsed": true
   },
   "outputs": [],
   "source": [
    "\n",
    "data = pybea.get_data(b_key,\n",
    "                      DataSetName='RegionalIncome',\n",
    "                      TableName='CA1',\n",
    "                      LineCode=3,\n",
    "                      GeoFips='COUNTY',\n",
    "                      Year=[ '2016'],\n",
    "                      ResultFormat='JSON')\n",
    "data = pd.DataFrame(data)\n",
    " \n"
   ]
  },
  {
   "cell_type": "code",
   "execution_count": 4,
   "metadata": {},
   "outputs": [
    {
     "data": {
      "text/html": [
       "<div>\n",
       "<style>\n",
       "    .dataframe thead tr:only-child th {\n",
       "        text-align: right;\n",
       "    }\n",
       "\n",
       "    .dataframe thead th {\n",
       "        text-align: left;\n",
       "    }\n",
       "\n",
       "    .dataframe tbody tr th {\n",
       "        vertical-align: top;\n",
       "    }\n",
       "</style>\n",
       "<table border=\"1\" class=\"dataframe\">\n",
       "  <thead>\n",
       "    <tr style=\"text-align: right;\">\n",
       "      <th></th>\n",
       "      <th>CL_UNIT</th>\n",
       "      <th>Code</th>\n",
       "      <th>DataValue</th>\n",
       "      <th>GeoFips</th>\n",
       "      <th>GeoName</th>\n",
       "      <th>NoteRef</th>\n",
       "      <th>TimePeriod</th>\n",
       "      <th>UNIT_MULT</th>\n",
       "    </tr>\n",
       "  </thead>\n",
       "  <tbody>\n",
       "    <tr>\n",
       "      <th>0</th>\n",
       "      <td>dollars</td>\n",
       "      <td>CA1-3</td>\n",
       "      <td>49246.0</td>\n",
       "      <td>00000</td>\n",
       "      <td>United States</td>\n",
       "      <td>NaN</td>\n",
       "      <td>2016</td>\n",
       "      <td>0</td>\n",
       "    </tr>\n",
       "    <tr>\n",
       "      <th>1</th>\n",
       "      <td>dollars</td>\n",
       "      <td>CA1-3</td>\n",
       "      <td>38896.0</td>\n",
       "      <td>01000</td>\n",
       "      <td>Alabama</td>\n",
       "      <td>NaN</td>\n",
       "      <td>2016</td>\n",
       "      <td>0</td>\n",
       "    </tr>\n",
       "    <tr>\n",
       "      <th>2</th>\n",
       "      <td>dollars</td>\n",
       "      <td>CA1-3</td>\n",
       "      <td>39721.0</td>\n",
       "      <td>01001</td>\n",
       "      <td>Autauga, AL</td>\n",
       "      <td>NaN</td>\n",
       "      <td>2016</td>\n",
       "      <td>0</td>\n",
       "    </tr>\n",
       "    <tr>\n",
       "      <th>3</th>\n",
       "      <td>dollars</td>\n",
       "      <td>CA1-3</td>\n",
       "      <td>41286.0</td>\n",
       "      <td>01003</td>\n",
       "      <td>Baldwin, AL</td>\n",
       "      <td>NaN</td>\n",
       "      <td>2016</td>\n",
       "      <td>0</td>\n",
       "    </tr>\n",
       "    <tr>\n",
       "      <th>4</th>\n",
       "      <td>dollars</td>\n",
       "      <td>CA1-3</td>\n",
       "      <td>31788.0</td>\n",
       "      <td>01005</td>\n",
       "      <td>Barbour, AL</td>\n",
       "      <td>NaN</td>\n",
       "      <td>2016</td>\n",
       "      <td>0</td>\n",
       "    </tr>\n",
       "    <tr>\n",
       "      <th>5</th>\n",
       "      <td>dollars</td>\n",
       "      <td>CA1-3</td>\n",
       "      <td>29264.0</td>\n",
       "      <td>01007</td>\n",
       "      <td>Bibb, AL</td>\n",
       "      <td>NaN</td>\n",
       "      <td>2016</td>\n",
       "      <td>0</td>\n",
       "    </tr>\n",
       "    <tr>\n",
       "      <th>6</th>\n",
       "      <td>dollars</td>\n",
       "      <td>CA1-3</td>\n",
       "      <td>31470.0</td>\n",
       "      <td>01009</td>\n",
       "      <td>Blount, AL</td>\n",
       "      <td>NaN</td>\n",
       "      <td>2016</td>\n",
       "      <td>0</td>\n",
       "    </tr>\n",
       "    <tr>\n",
       "      <th>7</th>\n",
       "      <td>dollars</td>\n",
       "      <td>CA1-3</td>\n",
       "      <td>26661.0</td>\n",
       "      <td>01011</td>\n",
       "      <td>Bullock, AL</td>\n",
       "      <td>NaN</td>\n",
       "      <td>2016</td>\n",
       "      <td>0</td>\n",
       "    </tr>\n",
       "    <tr>\n",
       "      <th>8</th>\n",
       "      <td>dollars</td>\n",
       "      <td>CA1-3</td>\n",
       "      <td>33694.0</td>\n",
       "      <td>01013</td>\n",
       "      <td>Butler, AL</td>\n",
       "      <td>NaN</td>\n",
       "      <td>2016</td>\n",
       "      <td>0</td>\n",
       "    </tr>\n",
       "    <tr>\n",
       "      <th>9</th>\n",
       "      <td>dollars</td>\n",
       "      <td>CA1-3</td>\n",
       "      <td>34401.0</td>\n",
       "      <td>01015</td>\n",
       "      <td>Calhoun, AL</td>\n",
       "      <td>NaN</td>\n",
       "      <td>2016</td>\n",
       "      <td>0</td>\n",
       "    </tr>\n",
       "  </tbody>\n",
       "</table>\n",
       "</div>"
      ],
      "text/plain": [
       "   CL_UNIT   Code  DataValue GeoFips        GeoName NoteRef TimePeriod  \\\n",
       "0  dollars  CA1-3    49246.0   00000  United States     NaN       2016   \n",
       "1  dollars  CA1-3    38896.0   01000        Alabama     NaN       2016   \n",
       "2  dollars  CA1-3    39721.0   01001    Autauga, AL     NaN       2016   \n",
       "3  dollars  CA1-3    41286.0   01003    Baldwin, AL     NaN       2016   \n",
       "4  dollars  CA1-3    31788.0   01005    Barbour, AL     NaN       2016   \n",
       "5  dollars  CA1-3    29264.0   01007       Bibb, AL     NaN       2016   \n",
       "6  dollars  CA1-3    31470.0   01009     Blount, AL     NaN       2016   \n",
       "7  dollars  CA1-3    26661.0   01011    Bullock, AL     NaN       2016   \n",
       "8  dollars  CA1-3    33694.0   01013     Butler, AL     NaN       2016   \n",
       "9  dollars  CA1-3    34401.0   01015    Calhoun, AL     NaN       2016   \n",
       "\n",
       "   UNIT_MULT  \n",
       "0          0  \n",
       "1          0  \n",
       "2          0  \n",
       "3          0  \n",
       "4          0  \n",
       "5          0  \n",
       "6          0  \n",
       "7          0  \n",
       "8          0  \n",
       "9          0  "
      ]
     },
     "execution_count": 4,
     "metadata": {},
     "output_type": "execute_result"
    }
   ],
   "source": [
    "data.head(10)"
   ]
  },
  {
   "cell_type": "code",
   "execution_count": null,
   "metadata": {
    "collapsed": true
   },
   "outputs": [],
   "source": [
    "data2.head(10)"
   ]
  },
  {
   "cell_type": "code",
   "execution_count": null,
   "metadata": {
    "collapsed": true
   },
   "outputs": [],
   "source": [
    "df = pd.read_excel(\"County_Rural_Lookup.xlsx\")\n",
    "df = df.drop(\"Unnamed: 8\", axis =1)\n"
   ]
  },
  {
   "cell_type": "code",
   "execution_count": null,
   "metadata": {
    "collapsed": true
   },
   "outputs": [],
   "source": [
    "df.columns = df.iloc[2]\n",
    "df = df.drop([0, 1,2])\n",
    "df = df.drop([3145, 3146,3147,3148,3149,3150])\n",
    "df = df.rename(columns ={\"2010 Census \\nPercent Rural\":\"percent_rural\"})\n",
    "df = df.rename(columns = {\"2015 GEOID\": \"geo_id\"} )\n"
   ]
  },
  {
   "cell_type": "code",
   "execution_count": null,
   "metadata": {
    "collapsed": true
   },
   "outputs": [],
   "source": [
    "rural = df[df.percent_rural >= 99.9]\n",
    "\n",
    "len(rural)"
   ]
  },
  {
   "cell_type": "code",
   "execution_count": null,
   "metadata": {
    "collapsed": true
   },
   "outputs": [],
   "source": [
    "m_rural = df[(df.percent_rural < 99.9) & (df.percent_rural > 49.9 )]\n",
    "len(m_rural)"
   ]
  },
  {
   "cell_type": "code",
   "execution_count": null,
   "metadata": {
    "collapsed": true
   },
   "outputs": [],
   "source": [
    "urban = df[df.percent_rural <= 49.9]\n",
    "len(urban)"
   ]
  },
  {
   "cell_type": "code",
   "execution_count": null,
   "metadata": {
    "collapsed": true,
    "scrolled": false
   },
   "outputs": [],
   "source": [
    "areas = pd.read_csv(\"final_county.csv\")\n"
   ]
  },
  {
   "cell_type": "code",
   "execution_count": null,
   "metadata": {
    "collapsed": true
   },
   "outputs": [],
   "source": [
    "areas = areas.drop([\"Unnamed: 0\" ,\"B01001_003E\",\"B01001_004E\",\"B01001_005E\",\"B01001_006E\"\n",
    "                   ,\"B01001_027E\",\"B01001_028E\",\"B01001_029E\",\"B01001_030E\"],axis = 1)\n"
   ]
  },
  {
   "cell_type": "code",
   "execution_count": null,
   "metadata": {
    "collapsed": true
   },
   "outputs": [],
   "source": [
    "areas.County = areas.County.astype(str)\n"
   ]
  },
  {
   "cell_type": "code",
   "execution_count": null,
   "metadata": {
    "collapsed": true
   },
   "outputs": [],
   "source": [
    "areas['County'] = areas['County'].str.zfill(3)"
   ]
  },
  {
   "cell_type": "code",
   "execution_count": null,
   "metadata": {
    "collapsed": true
   },
   "outputs": [],
   "source": [
    "areas.State = areas.State.astype(str)\n",
    "areas['State'] = areas['State'].str.zfill(2)\n"
   ]
  },
  {
   "cell_type": "code",
   "execution_count": null,
   "metadata": {
    "collapsed": true
   },
   "outputs": [],
   "source": [
    "areas[\"geo_id\"] = areas.State + areas.County\n"
   ]
  },
  {
   "cell_type": "code",
   "execution_count": null,
   "metadata": {
    "collapsed": true
   },
   "outputs": [],
   "source": [
    "unemployment = pd.read_excel(\"laucntycur14.xlsx\")\n",
    "unemployment.columns = unemployment.iloc[3]\n",
    "\n",
    "unemployment = unemployment.drop([0, 1,2,3,4])\n",
    "\n",
    "unemployment = unemployment.rename(index=str,columns ={\"(%)\":\"unemployment_rate\"})\n",
    "unemployment[\"geo_id\"] = unemployment[\"S_Code\"] + unemployment[\"Code\"]\n",
    "unemployment.head()\n"
   ]
  },
  {
   "cell_type": "code",
   "execution_count": null,
   "metadata": {
    "collapsed": true
   },
   "outputs": [],
   "source": [
    "x = rural.loc[:, ['geo_id']]\n",
    "areas.head()"
   ]
  },
  {
   "cell_type": "code",
   "execution_count": null,
   "metadata": {
    "collapsed": true
   },
   "outputs": [],
   "source": [
    "rural_result = pd.merge(x, areas, on='geo_id')"
   ]
  },
  {
   "cell_type": "code",
   "execution_count": null,
   "metadata": {
    "collapsed": true,
    "scrolled": false
   },
   "outputs": [],
   "source": [
    "rural_result = pd.merge(rural_result,unemployment, on =\"geo_id\")\n",
    "\n",
    "rural_result = rural_result[rural_result[\"Period\"] == \"Jun-18\"]\n",
    "\n",
    "len(rural_result)\n",
    "rural_result.to_excel(\"final_rural.xlsx\")\n",
    "#df3 = df1[(~df1.col1.isin(common.col1))"
   ]
  },
  {
   "cell_type": "code",
   "execution_count": null,
   "metadata": {
    "collapsed": true
   },
   "outputs": [],
   "source": [
    "data[\"geo_id\"] = data[\"geo_id\"].str.zfill(5)\n",
    "rural_result = pd.merge(rural_result,data, on =\"geo_id\")\n",
    "rural_result.to_excel(\"bea_final_rural.xlsx\")"
   ]
  },
  {
   "cell_type": "code",
   "execution_count": null,
   "metadata": {
    "collapsed": true
   },
   "outputs": [],
   "source": [
    "len(rural_result)"
   ]
  },
  {
   "cell_type": "raw",
   "metadata": {},
   "source": [
    "x = urban.loc[:, ['geo_id']]\n",
    "urban_result = pd.merge(x, areas, on='geo_id')\n"
   ]
  },
  {
   "cell_type": "code",
   "execution_count": null,
   "metadata": {
    "collapsed": true
   },
   "outputs": [],
   "source": [
    "x = urban.loc[:, ['geo_id']]\n",
    "urban_result = pd.merge(x, areas, on='geo_id')\n",
    "len(urban_result)"
   ]
  },
  {
   "cell_type": "code",
   "execution_count": null,
   "metadata": {
    "collapsed": true
   },
   "outputs": [],
   "source": [
    "urban_result = pd.merge(urban_result,unemployment, on =\"geo_id\")\n",
    "\n",
    "\n",
    "urban_result = urban_result[urban_result[\"Period\"] == \"Jun-18\"]\n",
    "len(urban_result)\n",
    "urban_result.to_excel(\"final_urban.xlsx\")"
   ]
  },
  {
   "cell_type": "code",
   "execution_count": null,
   "metadata": {
    "collapsed": true,
    "scrolled": true
   },
   "outputs": [],
   "source": [
    "d = pd.read_excel(\"test_d_final.xlsx\")\n",
    "d[\"geo_id\"] = d[\"geo_id\"].astype(str)\n",
    "d[\"geo_id\"] = d[\"geo_id\"].str.zfill(5)\n",
    "\n",
    "test_urban = pd.merge(urban_result,d, on =\"geo_id\")\n",
    "test_urban.to_excel(\"beafinal_urban.xlsx\")\n",
    "len(test_urban)"
   ]
  },
  {
   "cell_type": "code",
   "execution_count": null,
   "metadata": {
    "collapsed": true
   },
   "outputs": [],
   "source": [
    "x = m_rural.loc[:, ['geo_id']]\n",
    "m_rural_result = pd.merge(x, areas, on='geo_id')\n"
   ]
  },
  {
   "cell_type": "code",
   "execution_count": null,
   "metadata": {
    "collapsed": true,
    "scrolled": true
   },
   "outputs": [],
   "source": [
    "m_rural_result = pd.merge(m_rural_result,unemployment, on =\"geo_id\")\n",
    "\n",
    "m_rural_result = m_rural_result[m_rural_result[\"Period\"] == \"Jun-18\"]\n",
    "m_rural_result.to_excel(\"final_mrural.xlsx\")\n",
    "testm_rural = pd.merge(m_rural, d, on =\"geo_id\")\n",
    "testm_rural.to_excel(\"beafinal_mrural.xlsx\")\n",
    "#y = pd.merge(m_rural_result, testm_rural, on =\"geo_id\", how = \"outer\",indicator = True)\n"
   ]
  },
  {
   "cell_type": "code",
   "execution_count": null,
   "metadata": {
    "collapsed": true
   },
   "outputs": [],
   "source": []
  },
  {
   "cell_type": "code",
   "execution_count": null,
   "metadata": {
    "collapsed": true
   },
   "outputs": [],
   "source": []
  },
  {
   "cell_type": "code",
   "execution_count": null,
   "metadata": {
    "collapsed": true
   },
   "outputs": [],
   "source": []
  },
  {
   "cell_type": "code",
   "execution_count": null,
   "metadata": {
    "collapsed": true
   },
   "outputs": [],
   "source": []
  },
  {
   "cell_type": "code",
   "execution_count": null,
   "metadata": {
    "collapsed": true
   },
   "outputs": [],
   "source": []
  }
 ],
 "metadata": {
  "kernelspec": {
   "display_name": "Python 3",
   "language": "python",
   "name": "python3"
  },
  "language_info": {
   "codemirror_mode": {
    "name": "ipython",
    "version": 3
   },
   "file_extension": ".py",
   "mimetype": "text/x-python",
   "name": "python",
   "nbconvert_exporter": "python",
   "pygments_lexer": "ipython3",
   "version": "3.6.3"
  }
 },
 "nbformat": 4,
 "nbformat_minor": 2
}
