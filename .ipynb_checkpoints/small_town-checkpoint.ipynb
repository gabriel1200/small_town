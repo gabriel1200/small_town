{
 "cells": [
  {
   "cell_type": "code",
   "execution_count": null,
   "metadata": {
    "collapsed": true
   },
   "outputs": [],
   "source": [
    "\n",
    "key =\"2201050767bb417f928e06c7166304c6b41e485d\"\n",
    "from census import Census\n",
    "from us import states\n",
    "%matplotlib inline\n",
    "\n",
    "import matplotlib.pyplot as plt\n",
    "import numpy as np\n",
    "import requests\n",
    "import pandas as pd\n",
    "pd.options.mode.chained_assignment = None \n",
    "import os\n",
    "import requests\n",
    "import urllib.request, json \n",
    "\n",
    "\n",
    "c = Census(key)"
   ]
  },
  {
   "cell_type": "code",
   "execution_count": null,
   "metadata": {
    "collapsed": true
   },
   "outputs": [],
   "source": [
    "def get_tables(s_fips,variables):\n",
    "    \n",
    "        \n",
    "    with urllib.request.urlopen(\"https://api.census.gov/data/2016/acs/acs5?get={}&for=county%20subdivision:*&in=state:{}\".format\n",
    "                                    (variables,s_fips)) as url:\n",
    "        data = json.loads(url.read().decode())\n",
    "        df = pd.DataFrame(data)\n",
    "        df.columns = df.iloc[0]\n",
    "\n",
    "        df.drop(0, inplace=True)\n",
    "            \n",
    "        return df\n",
    "    return 0\n",
    "\n",
    "print(c.acs5.us(('B01003_001E','B01001_012E','B01003_001M','B02001_001E','B02001_001M')))\n",
    "print(c.acs5.state(('B01003_001E','B01002_001E','B08412_002E'),\"01\"))\n"
   ]
  },
  {
   "cell_type": "code",
   "execution_count": null,
   "metadata": {
    "collapsed": true
   },
   "outputs": [],
   "source": [
    "state_fips = pd.read_csv(\"fips/state_fips_master.csv\")\n",
    "state_fips = state_fips[\"fips\"].tolist()\n",
    "state_fips.append(11)\n",
    "state_fips =[str(i).zfill(2) for i in state_fips]"
   ]
  },
  {
   "cell_type": "code",
   "execution_count": null,
   "metadata": {
    "collapsed": true
   },
   "outputs": [],
   "source": [
    "variables = \"B06012_002E,B05010_001E,B19013_001E,NAME,B01003_001E,B05002_013E,B05002_013M,B01002_001E,B01002_001M,B03002_003E,B03002_004E,B03002_005E,B03002_006E,B03002_007E,B03002_008E,B03002_009E,B03002_012E\"\n",
    "\n"
   ]
  },
  {
   "cell_type": "code",
   "execution_count": null,
   "metadata": {
    "collapsed": true
   },
   "outputs": [],
   "source": [
    "db_list = []\n",
    "for i in state_fips:\n",
    "    df = get_tables(i,variables)\n",
    "    db_list.append(df)\n",
    "\n",
    "final = pd.concat(db_list)\n",
    "final[\"B01003_001E\"].astype(int).sum()"
   ]
  },
  {
   "cell_type": "code",
   "execution_count": null,
   "metadata": {
    "collapsed": true
   },
   "outputs": [],
   "source": [
    "c.acs5.us(\"B01003_001E\")"
   ]
  },
  {
   "cell_type": "code",
   "execution_count": null,
   "metadata": {
    "collapsed": true
   },
   "outputs": [],
   "source": [
    "final = final.rename(index=str, columns={'B05002_013E':\"Foreign Born\",\n",
    "                                           \"B01003_001E\":\"Population\",\"state\":\"State\",\"NAME\":\"Name\"\n",
    "                                           ,\"county\": \"County\",'B01002_001E': 'Median Age', \n",
    "                                           \"B05002_013E\":\"Foreign Born\",\n",
    "                                           \"B05002_013M\": \"Foreign Born ME\", 'B01002_001M':\n",
    "                                           'Median Age ME','B03002_003E':'White',\n",
    "                                         'B03002_004E':'Black','B03002_005E':'Native American',\n",
    "                                         'B03002_006E':'Asian','B03002_012E':'Hispanic',\n",
    "                                         'B03002_008E':'Other','B03002_009E':'Multiple',\n",
    "                                         'B19013_001E':'Median Household Income',\n",
    "                                         'B05010_001E':'Child Poverty Ratio','B06012_002E':'Poor'\n",
    "                                        \n",
    "                                        })"
   ]
  },
  {
   "cell_type": "code",
   "execution_count": null,
   "metadata": {
    "collapsed": true
   },
   "outputs": [],
   "source": [
    "final = final.rename(index=str, columns={\"B03002_007E\":'Native Hawaiian'})"
   ]
  },
  {
   "cell_type": "code",
   "execution_count": null,
   "metadata": {
    "collapsed": true
   },
   "outputs": [],
   "source": [
    "final"
   ]
  },
  {
   "cell_type": "code",
   "execution_count": null,
   "metadata": {
    "collapsed": true
   },
   "outputs": [],
   "source": [
    "final[\"Population\"] = final[\"Population\"].astype(int)\n",
    "final = final.sort_values(by='Population', ascending = True)\n",
    "final"
   ]
  },
  {
   "cell_type": "code",
   "execution_count": null,
   "metadata": {
    "collapsed": true
   },
   "outputs": [],
   "source": [
    "final.to_csv(\"county_sub.csv\")"
   ]
  },
  {
   "cell_type": "code",
   "execution_count": null,
   "metadata": {
    "collapsed": true
   },
   "outputs": [],
   "source": [
    "df_3\n",
    "df_3.columns = df_3.iloc[0]\n",
    "\n",
    "df_3 = df_3[df_3[\"NAME\"] != \"NAME\"]\n",
    "df_3[\"B01001_001E\"].astype(int).sum()"
   ]
  },
  {
   "cell_type": "code",
   "execution_count": null,
   "metadata": {
    "collapsed": true
   },
   "outputs": [],
   "source": [
    "x = c.acs5.get(('NAME', 'B01003_001E','B05002_013E','B05002_013M','B01002_001E','B01002_001M',\n",
    "                'B03002_003E','B03002_004E','B03002_005E','B03002_006E','B03002_009E',\n",
    "                'B03002_007E','B03002_008E','B06012_002E','B05010_001E','B19013_001E'),\n",
    "          {'for': '{}'.format(\"county\")})\n"
   ]
  },
  {
   "cell_type": "code",
   "execution_count": null,
   "metadata": {
    "collapsed": true
   },
   "outputs": [],
   "source": [
    "new_df =pd.DataFrame(x)\n",
    "new_df"
   ]
  },
  {
   "cell_type": "code",
   "execution_count": null,
   "metadata": {
    "collapsed": true
   },
   "outputs": [],
   "source": [
    "new_df = new_df.rename(index=str, columns={'B05002_013E':\"Foreign Born\",'B03002_007E':'Native Hawaiian',\n",
    "                                           \"B01003_001E\":\"Population\",\"state\":\"State\",\"NAME\":\"Name\"\n",
    "                                           ,\"county\": \"County\",'B01002_001E': 'Median Age', \n",
    "                                           \"B05002_013E\":\"Foreign Born\",\n",
    "                                           \"B05002_013M\": \"Foreign Born ME\", 'B01002_001M':\n",
    "                                           'Median Age ME','B03002_003E':'White',\n",
    "                                         'B03002_004E':'Black','B03002_005E':'Native American',\n",
    "                                         'B03002_006E':'Asian','B03002_012E':'Hispanic',\n",
    "                                         'B03002_008E':'Other','B03002_009E':'Multiple',\n",
    "                                         'B19013_001E':'Median Household Income',\n",
    "                                         'B05010_001E':'Child Poverty Ratio','B06012_002E':'Poor'\n",
    "                                        \n",
    "                                        })\n",
    "new_df[\"Population\"] = new_df[\"Population\"].astype(int)\n",
    "new_df = new_df.sort_values(by='Population', ascending = True)\n",
    "travel_time = \"B08303_002E,B08303_003E,B08303_004E,B08303_005E,B08303_006E,B08303_007E,B08303_008E,B08303_009E,B08303_0010E,B08303_011E,B08303_012E,B08303_013E\"\n",
    "\n",
    "new_df"
   ]
  },
  {
   "cell_type": "code",
   "execution_count": null,
   "metadata": {
    "collapsed": true
   },
   "outputs": [],
   "source": [
    "new_df.to_csv(\"county.csv\")"
   ]
  }
 ],
 "metadata": {
  "kernelspec": {
   "display_name": "Python 3",
   "language": "python",
   "name": "python3"
  },
  "language_info": {
   "codemirror_mode": {
    "name": "ipython",
    "version": 3
   },
   "file_extension": ".py",
   "mimetype": "text/x-python",
   "name": "python",
   "nbconvert_exporter": "python",
   "pygments_lexer": "ipython3",
   "version": "3.6.3"
  }
 },
 "nbformat": 4,
 "nbformat_minor": 2
}
