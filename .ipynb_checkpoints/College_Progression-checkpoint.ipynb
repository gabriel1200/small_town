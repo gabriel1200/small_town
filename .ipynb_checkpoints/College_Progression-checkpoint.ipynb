{
 "cells": [
  {
   "cell_type": "code",
   "execution_count": 1,
   "metadata": {},
   "outputs": [],
   "source": [
    "#importing libraries\n",
    "key =\"2201050767bb417f928e06c7166304c6b41e485d\"\n",
    "b_key =\"641DEDB0-361B-441D-BF2E-215378D97EB4\"\n",
    "\n",
    "from census import Census\n",
    "from us import states\n",
    "%matplotlib inline\n",
    "import seaborn as sns\n",
    "import matplotlib\n",
    "from plotly import plotly as py\n",
    "import plotly\n",
    "#from plotly.offline import download_plotlyjs, init_notebook_mode, plot, iplot\n",
    "import plotly.tools as tls\n",
    "import plotly.graph_objs as go\n",
    "\n",
    "from scipy.stats.stats import pearsonr\n",
    "\n",
    "import matplotlib.pyplot as plt\n",
    "import numpy as np\n",
    "import requests\n",
    "import pandas as pd\n",
    "pd.options.mode.chained_assignment = None \n",
    "import os\n",
    "import requests\n",
    "import urllib.request, json \n",
    "import pybea\n",
    "from scipy.stats import norm\n",
    "from matplotlib.ticker import PercentFormatter\n",
    "#init_notebook_mode(connected=True)\n",
    "\n",
    "\n",
    "import plotly.figure_factory as ff\n",
    "matplotlib.style.use('ggplot')\n",
    "plotly.tools.set_credentials_file(username='gabriel1200', api_key='JN4V10kJSdeeOp8MBwdw')\n",
    "import io\n",
    "import requests\n",
    "\n",
    "def get_csv(url):\n",
    "    s=requests.get(url).text\n",
    "    return pd.read_csv(io.StringIO(s))\n",
    "def get_excel(url):\n",
    "    return pd.read_excel(url)\n",
    "\n",
    "# functions for reading in data via url\n",
    "def weigh(col):\n",
    "    return np.ones_like(col) / len(col)\n",
    "#weights for percentage histogram"
   ]
  },
  {
   "cell_type": "code",
   "execution_count": 2,
   "metadata": {},
   "outputs": [
    {
     "data": {
      "text/plain": [
       "\"c['m_impact'] = c['mr_kq5_pq1'] * c['count']\\nc = c.sort_values(by='m_impact',ascending=False,)\\nc = c.dropna(subset =['state'])\\nc.head()\""
      ]
     },
     "execution_count": 2,
     "metadata": {},
     "output_type": "execute_result"
    }
   ],
   "source": [
    "url = 'https://opportunityinsights.org/wp-content/uploads/2018/04/mrc_table2.csv' \n",
    "e_url='https://data.mhec.state.md.us/MAC2Pilot/OPEID.xls'\n",
    "c_url= 'https://ifap.ed.gov/fedschcodelist/attachments/1920FedSchoolCodeList.xlsx'\n",
    "#url links\n",
    "c = get_csv(url)\n",
    "c['m_count'] = c['mr_kq5_pq1'] * c['count']\n",
    "c['mr_kq5_pq1'] *=100\n",
    "c['kq5_cond_parq1'] *=100\n",
    "\n",
    "e = get_excel(e_url)\n",
    "\n",
    "e =e.dropna(subset=['OPEID6'])\n",
    "#e.OPEID8 = e.OPEID8.apply(lambda x: x.strip(\"0\"))\n",
    "e['OPEID6'] = e['OPEID6'].astype(int)\n",
    "\n",
    "\n",
    "college_lat = pd.read_csv(\"data/college_id.csv\",encoding = \"ISO-8859-1\")\n",
    "c = c.sort_values(by='mr_kq5_pq1',ascending=False)\n",
    "\n",
    "'''c['m_impact'] = c['mr_kq5_pq1'] * c['count']\n",
    "c = c.sort_values(by='m_impact',ascending=False,)\n",
    "c = c.dropna(subset =['state'])\n",
    "c.head()'''\n",
    "\n"
   ]
  },
  {
   "cell_type": "code",
   "execution_count": 68,
   "metadata": {},
   "outputs": [
    {
     "data": {
      "text/plain": [
       "0.34785169"
      ]
     },
     "execution_count": 68,
     "metadata": {},
     "output_type": "execute_result"
    }
   ],
   "source": [
    "c['k_q1'].max()\n",
    "c['k_q1'] *=100\n",
    "\n",
    "c['par_q1']*=100"
   ]
  },
  {
   "cell_type": "code",
   "execution_count": 74,
   "metadata": {},
   "outputs": [],
   "source": [
    "c['div_c'] = c['m_count']/c['count']\n",
    "col_1 = c[c.tier <3]\n",
    "col_2 = c[c.tier < 5]\n",
    "col_2 = col_2[col_2.tier > 2]\n",
    "col_3 = c[c.tier <7]\n",
    "col_3 = col_3[col_3.tier > 4]\n",
    "col_4 = c[c.tier <9]\n",
    "col_4 = col_4[col_4.tier > 6]\n",
    "col_two = c[c.tier == 9]\n",
    "col_5 = c[c.tier <12]\n",
    "col_5 = col_5[col_5.tier >9]\n",
    "col_6 = c[c.tier==12]\n",
    "\n",
    "nd = c[c.tier == 13]\n",
    "n_col = c[c.tier == 14]\n"
   ]
  },
  {
   "cell_type": "code",
   "execution_count": 72,
   "metadata": {},
   "outputs": [],
   "source": []
  },
  {
   "cell_type": "code",
   "execution_count": 80,
   "metadata": {},
   "outputs": [
    {
     "name": "stderr",
     "output_type": "stream",
     "text": [
      "C:\\Users\\Gabriel\\Anaconda3\\lib\\site-packages\\IPython\\core\\display.py:689: UserWarning:\n",
      "\n",
      "Consider using IPython.display.IFrame instead\n",
      "\n"
     ]
    },
    {
     "data": {
      "text/html": [
       "<iframe id=\"igraph\" scrolling=\"no\" style=\"border:none;\" seamless=\"seamless\" src=\"https://plot.ly/~gabriel1200/27.embed\" height=\"525px\" width=\"100%\"></iframe>"
      ],
      "text/plain": [
       "<plotly.tools.PlotlyDisplay object>"
      ]
     },
     "execution_count": 80,
     "metadata": {},
     "output_type": "execute_result"
    }
   ],
   "source": [
    "x= 'm_count'\n",
    "counts = [col_1[x].sum(),col_2[x].sum(),col_3[x].sum(),\n",
    "          col_4[x].sum(), col_two[x].sum(),col_5[x].sum(),col_6[x].sum(),nd[x].sum(),n_col[x].sum()]\n",
    "data = [go.Bar(\n",
    "            y=counts,\n",
    "            \n",
    "            x=['Most S','Highly Selective','Selective','Non Selective','Two Year'\n",
    "               ,'For Profit','Less than Two','Insufficient Data','No College']\n",
    "    )]\n",
    "layout = go.Layout(\n",
    "    title='Mobile student count by college type')\n",
    "fig = go.Figure(data=data, layout=layout)\n",
    "#plot_url = py.plot(fig, filename='styling-names')\n",
    "py.iplot(fig, filename='basic-bar')\n",
    "\n"
   ]
  },
  {
   "cell_type": "code",
   "execution_count": 71,
   "metadata": {},
   "outputs": [
    {
     "name": "stderr",
     "output_type": "stream",
     "text": [
      "C:\\Users\\Gabriel\\Anaconda3\\lib\\site-packages\\IPython\\core\\display.py:689: UserWarning:\n",
      "\n",
      "Consider using IPython.display.IFrame instead\n",
      "\n"
     ]
    },
    {
     "data": {
      "text/html": [
       "<iframe id=\"igraph\" scrolling=\"no\" style=\"border:none;\" seamless=\"seamless\" src=\"https://plot.ly/~gabriel1200/20.embed\" height=\"525px\" width=\"100%\"></iframe>"
      ],
      "text/plain": [
       "<plotly.tools.PlotlyDisplay object>"
      ]
     },
     "execution_count": 71,
     "metadata": {},
     "output_type": "execute_result"
    }
   ],
   "source": [
    "first = 0\n",
    "spacing = 10000\n",
    "r = [0,130000]\n",
    "x= 'k_median'\n",
    "param =dict(\n",
    "        start=0,\n",
    "        end=250000,\n",
    "        size = 10000\n",
    "    )\n",
    "trace1 = go.Histogram(\n",
    "    x=col_1[x],\n",
    "    histnorm='probability',\n",
    "    xbins= param,\n",
    "    name='Most Selective',\n",
    "\n",
    ")\n",
    "trace2 = go.Histogram(\n",
    "    x=col_2[x],\n",
    "    histnorm='probability',\n",
    "    xbins=param,\n",
    "    name='Highly Selective',\n",
    ")\n",
    "trace3 = go.Histogram(\n",
    "    x=col_3[x],\n",
    "    histnorm='probability',\n",
    "    xbins=param,\n",
    "    name='Selective',\n",
    ")\n",
    "trace4 = go.Histogram(\n",
    "    x=col_4[x],\n",
    "    histnorm='probability',\n",
    "    xbins=param,\n",
    "    name='Non Selective',\n",
    ")\n",
    "tracetwo = go.Histogram(\n",
    "    x=col_two[x],\n",
    "    histnorm='probability',\n",
    "    xbins=param,\n",
    "    name='Two Year',\n",
    ")\n",
    "trace5 = go.Histogram(\n",
    "    x=col_5[x],\n",
    "    histnorm='probability',\n",
    "    xbins= param,\n",
    "    name='For Profit',\n",
    ")\n",
    "trace6 = go.Histogram(\n",
    "    x=col_6[x],\n",
    "    histnorm='probability',\n",
    "    xbins=param,\n",
    "    name='Less than 2',\n",
    "     marker=dict(\n",
    "        color='#EB89B5'\n",
    "    ),\n",
    ")\n",
    "\n",
    "#data = [trace1, trace3,trace2,trace4]\n",
    "data = [trace1,trace2,trace3,trace4,tracetwo,trace5,trace6]\n",
    "layout = go.Layout(\n",
    "    title='Median student income by college tier',\n",
    "    xaxis=dict(\n",
    "        title='Median individual income',\n",
    "        tickmode='linear',\n",
    "        ticks='outside',\n",
    "        tick0=first,\n",
    "        dtick=spacing,\n",
    "        ticklen=8,\n",
    "        tickwidth=3,\n",
    "        tickcolor='#000',\n",
    "        range=r\n",
    "        \n",
    "    ),\n",
    "    yaxis=dict(\n",
    "        title='Frequency',\n",
    "        tickformat =',.0%',\n",
    "    ),\n",
    "    bargap=0.2,\n",
    "    bargroupgap=0.1\n",
    ")\n",
    "fig = go.Figure(data=data, layout=layout)\n",
    "py.iplot(fig, filename='styled histogram')"
   ]
  },
  {
   "cell_type": "code",
   "execution_count": 1,
   "metadata": {},
   "outputs": [],
   "source": []
  },
  {
   "cell_type": "code",
   "execution_count": 49,
   "metadata": {},
   "outputs": [
    {
     "ename": "NameError",
     "evalue": "name 'cross' is not defined",
     "output_type": "error",
     "traceback": [
      "\u001b[1;31m---------------------------------------------------------------------------\u001b[0m",
      "\u001b[1;31mNameError\u001b[0m                                 Traceback (most recent call last)",
      "\u001b[1;32m<ipython-input-49-47305b31d334>\u001b[0m in \u001b[0;36m<module>\u001b[1;34m\u001b[0m\n\u001b[0;32m      1\u001b[0m \u001b[0mcollege_lat\u001b[0m \u001b[1;33m=\u001b[0m \u001b[0mpd\u001b[0m\u001b[1;33m.\u001b[0m\u001b[0mread_csv\u001b[0m\u001b[1;33m(\u001b[0m\u001b[1;34m\"data/college_id.csv\"\u001b[0m\u001b[1;33m,\u001b[0m\u001b[0mencoding\u001b[0m \u001b[1;33m=\u001b[0m \u001b[1;34m\"ISO-8859-1\"\u001b[0m\u001b[1;33m)\u001b[0m\u001b[1;33m\u001b[0m\u001b[1;33m\u001b[0m\u001b[0m\n\u001b[0;32m      2\u001b[0m \u001b[1;33m\u001b[0m\u001b[0m\n\u001b[1;32m----> 3\u001b[1;33m \u001b[0mcomb\u001b[0m \u001b[1;33m=\u001b[0m \u001b[0mc\u001b[0m\u001b[1;33m.\u001b[0m\u001b[0mmerge\u001b[0m\u001b[1;33m(\u001b[0m\u001b[0mcross\u001b[0m\u001b[1;33m,\u001b[0m\u001b[0mleft_on\u001b[0m \u001b[1;33m=\u001b[0m\u001b[1;34m\"super_opeid\"\u001b[0m\u001b[1;33m,\u001b[0m\u001b[0mright_on\u001b[0m \u001b[1;33m=\u001b[0m \u001b[1;34m\"super_opeid\"\u001b[0m\u001b[1;33m)\u001b[0m\u001b[1;33m\u001b[0m\u001b[1;33m\u001b[0m\u001b[0m\n\u001b[0m\u001b[0;32m      4\u001b[0m \u001b[0mcomb\u001b[0m \u001b[1;33m=\u001b[0m \u001b[0mcomb\u001b[0m\u001b[1;33m.\u001b[0m\u001b[0mdrop_duplicates\u001b[0m\u001b[1;33m(\u001b[0m\u001b[1;34m\"super_opeid\"\u001b[0m\u001b[1;33m)\u001b[0m\u001b[1;33m\u001b[0m\u001b[1;33m\u001b[0m\u001b[0m\n\u001b[0;32m      5\u001b[0m \u001b[0mcollege_lat\u001b[0m\u001b[1;33m[\u001b[0m\u001b[1;34m'true'\u001b[0m\u001b[1;33m]\u001b[0m \u001b[1;33m=\u001b[0m \u001b[0mcollege_lat\u001b[0m\u001b[1;33m.\u001b[0m\u001b[0mOPEID\u001b[0m\u001b[1;33m.\u001b[0m\u001b[0mstr\u001b[0m\u001b[1;33m.\u001b[0m\u001b[0misnumeric\u001b[0m\u001b[1;33m(\u001b[0m\u001b[1;33m)\u001b[0m\u001b[1;33m\u001b[0m\u001b[1;33m\u001b[0m\u001b[0m\n",
      "\u001b[1;31mNameError\u001b[0m: name 'cross' is not defined"
     ]
    }
   ],
   "source": [
    "college_lat = pd.read_csv(\"data/college_id.csv\",encoding = \"ISO-8859-1\")\n",
    "\n",
    "comb = c.merge(cross,left_on =\"super_opeid\",right_on = \"super_opeid\")\n",
    "comb = comb.drop_duplicates(\"super_opeid\")\n",
    "college_lat['true'] = college_lat.OPEID.str.isnumeric()\n",
    "college_lat = college_lat[college_lat['true']==True]\n",
    "college_lat['OPEID'] = college_lat['OPEID'].apply(lambda x: x[0:len(x)-2])\n",
    "college_lat = college_lat.dropna(subset=['OPEID'])\n",
    "college_lat.OPEID = college_lat.OPEID.astype(int)\n",
    "college = comb.merge(college_lat,left_on =\"opeid\", right_on = \"OPEID\")\n",
    "college = college.drop_duplicates(\"opeid\")\n",
    "#college_lat.head()\n",
    "#missing = college[(college.UNITID.isnull())]\n",
    "#missing.head()\n",
    "college.head(46)"
   ]
  },
  {
   "cell_type": "code",
   "execution_count": 23,
   "metadata": {},
   "outputs": [
    {
     "data": {
      "text/plain": [
       "334.56771184733327"
      ]
     },
     "execution_count": 23,
     "metadata": {},
     "output_type": "execute_result"
    }
   ],
   "source": [
    "t = c.dropna(subset=['state'])\n",
    "t.head()\n",
    "t['m_count'].max()"
   ]
  },
  {
   "cell_type": "code",
   "execution_count": 29,
   "metadata": {},
   "outputs": [
    {
     "name": "stderr",
     "output_type": "stream",
     "text": [
      "C:\\Users\\Gabriel\\Anaconda3\\lib\\site-packages\\IPython\\core\\display.py:689: UserWarning:\n",
      "\n",
      "Consider using IPython.display.IFrame instead\n",
      "\n"
     ]
    },
    {
     "data": {
      "text/html": [
       "<iframe id=\"igraph\" scrolling=\"no\" style=\"border:none;\" seamless=\"seamless\" src=\"https://plot.ly/~gabriel1200/31.embed\" height=\"525px\" width=\"100%\"></iframe>"
      ],
      "text/plain": [
       "<plotly.tools.PlotlyDisplay object>"
      ]
     },
     "execution_count": 29,
     "metadata": {},
     "output_type": "execute_result"
    }
   ],
   "source": [
    "new_c = c.dropna(subset=['state'])\n",
    "trace = go.Scattergl(\n",
    "    x = new_c['m_count'],\n",
    "    y = new_c['mr_kq5_pq1'],\n",
    "    mode = 'markers',\n",
    "    marker = dict(\n",
    "        color = new_c['tier'],\n",
    "        line = dict(width = 1),\n",
    "        colorscale='Viridis',\n",
    "        showscale=True\n",
    "    )\n",
    ")\n",
    "data = [trace]\n",
    "py.iplot(data, filename='compare_webgl')"
   ]
  },
  {
   "cell_type": "code",
   "execution_count": 11,
   "metadata": {},
   "outputs": [
    {
     "data": {
      "text/plain": [
       "<matplotlib.axes._subplots.AxesSubplot at 0x25c919e47b8>"
      ]
     },
     "execution_count": 11,
     "metadata": {},
     "output_type": "execute_result"
    },
    {
     "data": {
      "image/png": "[encoded data removed]",
      "text/plain": [
       "<Figure size 1296x720 with 1 Axes>"
      ]
     },
     "metadata": {
      "needs_background": "light"
     },
     "output_type": "display_data"
    }
   ],
   "source": [
    "x_axis = [i *10000 for i in range(14)]\n",
    "x_labels = [str(i * 5) +'k'for i in range(50)]\n",
    "c.k_median.plot(figsize = (18,10),kind = \"hist\",bins =x_axis,rwidth=0.9,\n",
    "                weights = weigh(c.k_median),color = 'r',title = \"Median Individual Income\",xticks = x_axis) "
   ]
  },
  {
   "cell_type": "code",
   "execution_count": 10,
   "metadata": {},
   "outputs": [
    {
     "data": {
      "text/plain": [
       "2043    16.357975\n",
       "221     12.938586\n",
       "354     11.723747\n",
       "228     10.235137\n",
       "257      9.918455\n",
       "226      9.691438\n",
       "1043     9.343507\n",
       "1383     8.432647\n",
       "1754     8.412748\n",
       "1252     8.334076\n",
       "829      8.136097\n",
       "1803     8.087396\n",
       "224      8.065849\n",
       "1789     7.997507\n",
       "1997     7.648799\n",
       "225      7.542002\n",
       "485      7.522289\n",
       "2177     7.315101\n",
       "1863     7.177050\n",
       "230      7.138266\n",
       "717      7.082128\n",
       "1672     6.909216\n",
       "247      6.833405\n",
       "2002     6.820751\n",
       "231      6.819507\n",
       "1561     6.795936\n",
       "1883     6.768215\n",
       "1843     6.736102\n",
       "2127     6.734403\n",
       "970      6.712117\n",
       "          ...    \n",
       "665      0.129745\n",
       "1613     0.124153\n",
       "60       0.085495\n",
       "944      0.074440\n",
       "101      0.064508\n",
       "111      0.052996\n",
       "1237     0.045245\n",
       "544      0.037726\n",
       "927      0.034503\n",
       "1758     0.031519\n",
       "1400     0.029450\n",
       "543      0.026105\n",
       "1248     0.025680\n",
       "906      0.011089\n",
       "610      0.008209\n",
       "964      0.000000\n",
       "611      0.000000\n",
       "974      0.000000\n",
       "1095     0.000000\n",
       "909      0.000000\n",
       "372      0.000000\n",
       "1133     0.000000\n",
       "1136     0.000000\n",
       "276      0.000000\n",
       "1149     0.000000\n",
       "1775     0.000000\n",
       "1476     0.000000\n",
       "128      0.000000\n",
       "1452     0.000000\n",
       "644      0.000000\n",
       "Name: mr_kq5_pq1, Length: 2202, dtype: float64"
      ]
     },
     "execution_count": 10,
     "metadata": {},
     "output_type": "execute_result"
    }
   ],
   "source": [
    "#col_1['par_median'].min()\n",
    "c['mr_kq5_pq1']"
   ]
  },
  {
   "cell_type": "code",
   "execution_count": 57,
   "metadata": {},
   "outputs": [],
   "source": [
    "e_url = 'https://opportunityinsights.org/wp-content/uploads/2018/03/mrc_table1.csv'\n",
    "extra = get_csv(e_url)\n",
    "c=c.merge(extra,left_on =\"super_opeid\",right_on = \"super_opeid\")\n",
    "c = c.dropna(subset =['cfips'])\n",
    "c['cfips'] = c.cfips.astype(int)\n",
    "c['cfips'] = c.cfips.astype(str)\n",
    "c['cfips'] = c.cfips.str.zfill(5)\n"
   ]
  },
  {
   "cell_type": "code",
   "execution_count": 60,
   "metadata": {},
   "outputs": [
    {
     "data": {
      "text/plain": [
       "334.56771184733327"
      ]
     },
     "execution_count": 60,
     "metadata": {},
     "output_type": "execute_result"
    }
   ],
   "source": [
    "c.columns\n",
    "c['m_count'].max()\n"
   ]
  },
  {
   "cell_type": "code",
   "execution_count": 62,
   "metadata": {},
   "outputs": [
    {
     "data": {
      "text/plain": [
       "40371.88916842254"
      ]
     },
     "execution_count": 62,
     "metadata": {},
     "output_type": "execute_result"
    }
   ],
   "source": [
    "y = c.groupby(['cfips'])['m_count'].sum().reset_index()\n",
    "c['m_count'].sum()\n",
    "#y['m_count'].sum()\n"
   ]
  },
  {
   "cell_type": "code",
   "execution_count": 17,
   "metadata": {},
   "outputs": [],
   "source": [
    "cut = c[c['mr_kq5_pq1_y'] >= c['mr_kq5_pq1_y'].quantile(.75)]\n",
    "x = cut.groupby(['cfips']).size().to_frame('count').reset_index()"
   ]
  },
  {
   "cell_type": "code",
   "execution_count": 24,
   "metadata": {},
   "outputs": [
    {
     "data": {
      "text/plain": [
       "<matplotlib.axes._subplots.AxesSubplot at 0x16f4d78d7f0>"
      ]
     },
     "execution_count": 24,
     "metadata": {},
     "output_type": "execute_result"
    },
    {
     "data": {
      "image/png": "[encoded data removed]",
      "text/plain": [
       "<Figure size 432x288 with 1 Axes>"
      ]
     },
     "metadata": {},
     "output_type": "display_data"
    }
   ],
   "source": [
    "x['count'].hist(bins = 20)"
   ]
  },
  {
   "cell_type": "code",
   "execution_count": 47,
   "metadata": {},
   "outputs": [
    {
     "data": {
      "text/plain": [
       "<matplotlib.axes._subplots.AxesSubplot at 0x1e63dc2f828>"
      ]
     },
     "execution_count": 47,
     "metadata": {},
     "output_type": "execute_result"
    },
    {
     "data": {
      "image/png": "[encoded data removed]",
      "text/plain": [
       "<Figure size 432x288 with 1 Axes>"
      ]
     },
     "metadata": {
      "needs_background": "light"
     },
     "output_type": "display_data"
    }
   ],
   "source": [
    "\n",
    "#x = c.groupby(['cfips']).size().to_frame('count').reset_index()\n",
    "y['m_count'].hist(bins = 50, range=(0,100))"
   ]
  },
  {
   "cell_type": "code",
   "execution_count": 48,
   "metadata": {},
   "outputs": [
    {
     "data": {
      "text/plain": [
       "40371.88912306464"
      ]
     },
     "execution_count": 48,
     "metadata": {},
     "output_type": "execute_result"
    }
   ],
   "source": [
    "y['m_count'].sum()"
   ]
  },
  {
   "cell_type": "code",
   "execution_count": null,
   "metadata": {},
   "outputs": [],
   "source": [
    "c.corr()"
   ]
  },
  {
   "cell_type": "code",
   "execution_count": 22,
   "metadata": {},
   "outputs": [
    {
     "name": "stderr",
     "output_type": "stream",
     "text": [
      "C:\\Users\\Gabriel\\Anaconda3\\lib\\site-packages\\scipy\\stats\\stats.py:1713: FutureWarning:\n",
      "\n",
      "Using a non-tuple sequence for multidimensional indexing is deprecated; use `arr[tuple(seq)]` instead of `arr[seq]`. In the future this will be interpreted as an array index, `arr[np.array(seq)]`, which will result either in an error or a different result.\n",
      "\n"
     ]
    },
    {
     "data": {
      "text/plain": [
       "<matplotlib.axes._subplots.AxesSubplot at 0x16f4dc20a58>"
      ]
     },
     "execution_count": 22,
     "metadata": {},
     "output_type": "execute_result"
    },
    {
     "data": {
      "image/png": "[encoded data removed]",
      "text/plain": [
       "<Figure size 432x288 with 1 Axes>"
      ]
     },
     "metadata": {},
     "output_type": "display_data"
    }
   ],
   "source": [
    "sns.regplot(c.par_median,c.k_median,ci=68)"
   ]
  },
  {
   "cell_type": "code",
   "execution_count": 63,
   "metadata": {},
   "outputs": [
    {
     "name": "stderr",
     "output_type": "stream",
     "text": [
      "C:\\Users\\Gabriel\\Anaconda3\\lib\\site-packages\\IPython\\core\\display.py:689: UserWarning:\n",
      "\n",
      "Consider using IPython.display.IFrame instead\n",
      "\n"
     ]
    },
    {
     "data": {
      "text/html": [
       "<iframe id=\"igraph\" scrolling=\"no\" style=\"border:none;\" seamless=\"seamless\" src=\"https://plot.ly/~gabriel1200/14.embed\" height=\"450px\" width=\"900px\"></iframe>"
      ],
      "text/plain": [
       "<plotly.tools.PlotlyDisplay object>"
      ]
     },
     "execution_count": 63,
     "metadata": {},
     "output_type": "execute_result"
    }
   ],
   "source": [
    "df = y\n",
    "colorscale = [\"#d2e3f3\",\"#c6dbef\",\"#b3d2e9\",\"#9ecae1\",\n",
    "              \"#85bcdb\",\"#6baed6\",\"#57a0ce\",\"#4292c6\",\"#3082be\",\"#2171b5\",\"#1361a9\",\n",
    "              \"#08519c\",\"#0b4083\",\"#08306b\"]\n",
    "endpts = list(np.linspace(1, 500, len(colorscale) - 1))\n",
    "\n",
    "fig = ff.create_choropleth(\n",
    "    fips=df['cfips'], values=df['m_count'], scope=['usa'],\n",
    "    binning_endpoints=endpts, colorscale=colorscale,\n",
    "    show_state_data=False,\n",
    "    show_hover=True, centroid_marker={'opacity': 0},\n",
    "    asp=2.9, title='Counties by number of mobile students',\n",
    "    legend_title='Mobile Students'\n",
    ")\n",
    "py.iplot(fig, filename='choropleth_full_usa',auto_open=True)\n"
   ]
  },
  {
   "cell_type": "code",
   "execution_count": 20,
   "metadata": {},
   "outputs": [
    {
     "name": "stderr",
     "output_type": "stream",
     "text": [
      "C:\\Users\\Gabriel\\Anaconda3\\lib\\site-packages\\IPython\\core\\display.py:689: UserWarning:\n",
      "\n",
      "Consider using IPython.display.IFrame instead\n",
      "\n"
     ]
    },
    {
     "data": {
      "text/html": [
       "<iframe id=\"igraph\" scrolling=\"no\" style=\"border:none;\" seamless=\"seamless\" src=\"https://plot.ly/~gabriel1200/14.embed\" height=\"450px\" width=\"900px\"></iframe>"
      ],
      "text/plain": [
       "<plotly.tools.PlotlyDisplay object>"
      ]
     },
     "execution_count": 20,
     "metadata": {},
     "output_type": "execute_result"
    }
   ],
   "source": [
    "df = x\n",
    "colorscale = [\"#d2e3f3\",\"#c6dbef\",\"#b3d2e9\",\"#9ecae1\",\n",
    "              \"#85bcdb\",\"#6baed6\",\"#57a0ce\",\"#4292c6\",\"#3082be\",\"#2171b5\",\"#1361a9\",\n",
    "              \"#08519c\",\"#0b4083\",\"#08306b\"]\n",
    "endpts = list(np.linspace(1, 5, len(colorscale) - 1))\n",
    "\n",
    "fig = ff.create_choropleth(\n",
    "    fips=df['cfips'], values=df['count'], scope=['usa'],\n",
    "    binning_endpoints=endpts, colorscale=colorscale,\n",
    "    show_state_data=False,\n",
    "    show_hover=True, centroid_marker={'opacity': 0},\n",
    "    asp=2.9, title='Counties by number of High Mobility Schools',\n",
    "    legend_title='Number of High Mobility Schools'\n",
    ")\n",
    "py.iplot(fig, filename='choropleth_full_usa')\n"
   ]
  },
  {
   "cell_type": "code",
   "execution_count": null,
   "metadata": {},
   "outputs": [],
   "source": [
    "\n",
    "df = college.head(220)\n",
    "#df = college[college['mr_kq5_pq1']>4]\n",
    "\n",
    "\n",
    "#scl = [ [0,\"rgb(0, 0, 255)\"],[0.2,\"rgb(51, 0, 255)\"],[0.4,\"rgb(102, 0, 255)\"],\\\n",
    "#    [0.6,\"rgb(153, 0, 255)\"],[0.8,\"rgb(204, 0, 255)\"],[1,\"rgb(255, 0, 255)\"] ]\n",
    "\n",
    "scl = [ [0,\"rgb(0,0,255)\"], [1,\"rgb(255,255, 255)\"]]\n",
    "data = [ dict(\n",
    "        type = 'scattergeo',\n",
    "        locationmode = 'USA-states',\n",
    "        lon = df['LONGITUD'],\n",
    "        lat = df['LATITUDE'],\n",
    "        text = df['count'],\n",
    "        mode = 'markers',\n",
    "        marker = dict(\n",
    "            \n",
    "            size = 5,\n",
    "            opacity = .4,\n",
    "            reversescale = True,\n",
    "            autocolorscale = False,\n",
    "            symbol = 'circle',\n",
    "            line = dict(\n",
    "                width=1,\n",
    "                color='rgba(102, 102, 102)'\n",
    "            ),\n",
    "            colorscale = scl,\n",
    "            cmin = 0,\n",
    "            color = df['count'],\n",
    "            cmax = 16,\n",
    "            colorbar=dict(\n",
    "                title=\"Mobility Rate\"\n",
    "            )\n",
    "        ))]\n",
    "\n",
    "layout = dict(\n",
    "        title = 'College Mobility Rates for Kiera',\n",
    "        colorbar = True,\n",
    "        geo = dict(\n",
    "            scope='usa',\n",
    "            projection=dict( type='albers usa' ),\n",
    "            showland = True,\n",
    "            landcolor = \"rgb(250, 250, 250)\",\n",
    "            subunitcolor = \"rgb(217, 217, 217)\",\n",
    "            countrycolor = \"rgb(217, 217, 217)\",\n",
    "            countrywidth = 0.5,\n",
    "            subunitwidth = 0.5\n",
    "        ),\n",
    "    )\n",
    "\n",
    "fig = dict( data=data, layout=layout )\n",
    "py.iplot( fig, validate=False, filename='d3-airports' )"
   ]
  },
  {
   "cell_type": "code",
   "execution_count": null,
   "metadata": {},
   "outputs": [],
   "source": [
    "c['count'].describe()"
   ]
  },
  {
   "cell_type": "code",
   "execution_count": null,
   "metadata": {},
   "outputs": [],
   "source": []
  },
  {
   "cell_type": "code",
   "execution_count": null,
   "metadata": {},
   "outputs": [],
   "source": []
  }
 ],
 "metadata": {
  "kernelspec": {
   "display_name": "Python 3",
   "language": "python",
   "name": "python3"
  },
  "language_info": {
   "codemirror_mode": {
    "name": "ipython",
    "version": 3
   },
   "file_extension": ".py",
   "mimetype": "text/x-python",
   "name": "python",
   "nbconvert_exporter": "python",
   "pygments_lexer": "ipython3",
   "version": "3.6.7"
  }
 },
 "nbformat": 4,
 "nbformat_minor": 2
}
