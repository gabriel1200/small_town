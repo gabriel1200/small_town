{
 "cells": [
  {
   "cell_type": "code",
   "execution_count": 1,
   "metadata": {},
   "outputs": [],
   "source": [
    "key =\"2201050767bb417f928e06c7166304c6b41e485d\"\n",
    "b_key =\"641DEDB0-361B-441D-BF2E-215378D97EB4\"\n",
    "\n",
    "from census import Census\n",
    "from us import states\n",
    "%matplotlib inline\n",
    "import seaborn as sns\n",
    "import matplotlib\n",
    "from plotly import plotly as py\n",
    "import plotly\n",
    "#from plotly.offline import download_plotlyjs, init_notebook_mode, plot, iplot\n",
    "import plotly.tools as tls\n",
    "\n",
    "\n",
    "import matplotlib.pyplot as plt\n",
    "import numpy as np\n",
    "import requests\n",
    "import pandas as pd\n",
    "pd.options.mode.chained_assignment = None \n",
    "import os\n",
    "import requests\n",
    "import urllib.request, json \n",
    "import pybea\n",
    "from scipy.stats import norm\n",
    "from matplotlib.ticker import PercentFormatter\n",
    "#init_notebook_mode(connected=True)\n",
    "\n",
    "\n",
    "import plotly.figure_factory as ff\n",
    "matplotlib.style.use('ggplot')\n",
    "plotly.tools.set_credentials_file(username='gabriel1200', api_key='JN4V10kJSdeeOp8MBwdw')\n"
   ]
  },
  {
   "cell_type": "code",
   "execution_count": null,
   "metadata": {},
   "outputs": [],
   "source": []
  },
  {
   "cell_type": "code",
   "execution_count": 2,
   "metadata": {},
   "outputs": [
    {
     "name": "stdout",
     "output_type": "stream",
     "text": [
      "C:\\Users\\Gabriel\\AppData\\Roaming\\jupyter\n"
     ]
    }
   ],
   "source": [
    "from jupyter_core.paths import jupyter_data_dir\n",
    "print(jupyter_data_dir())"
   ]
  },
  {
   "cell_type": "code",
   "execution_count": 27,
   "metadata": {
    "scrolled": true
   },
   "outputs": [
    {
     "data": {
      "text/plain": [
       "False"
      ]
     },
     "execution_count": 27,
     "metadata": {},
     "output_type": "execute_result"
    }
   ],
   "source": [
    "outcome = pd.read_csv(\"county_outcomes.csv\")\n",
    "outcome['state'] = outcome['state'].astype(str)\n",
    "outcome['state'] = outcome['state'].str.zfill(2)\n",
    "outcome['county'] = outcome['county'].astype(str)\n",
    "outcome['county'] = outcome['county'].str.zfill(3)\n",
    "outcome['geo_id'] =  outcome['state']+outcome['county'] \n",
    "x=\"kfr_black_pooled_p25\"\n",
    "y=\"kfr_hisp_pooled_p25\"\n",
    "z=\"kfr_white_pooled_p25\"\n",
    "\n",
    "outcome =outcome.dropna(subset=[x,y,z])\n",
    "len(outcome)\n",
    "\n",
    "r_as = outcome[x].dropna().round(4) \n",
    "\n",
    "m_as = outcome[y].dropna().round(4) \n",
    "\n",
    "u_as = outcome[z].dropna().round(4) \n",
    "\n",
    "all(x<0 for x in r_as)\n"
   ]
  },
  {
   "cell_type": "code",
   "execution_count": 28,
   "metadata": {},
   "outputs": [
    {
     "data": {
      "text/plain": [
       "1698"
      ]
     },
     "execution_count": 28,
     "metadata": {},
     "output_type": "execute_result"
    }
   ],
   "source": [
    "len(m_as)"
   ]
  },
  {
   "cell_type": "code",
   "execution_count": 52,
   "metadata": {},
   "outputs": [
    {
     "name": "stderr",
     "output_type": "stream",
     "text": [
      "C:\\Users\\Gabriel\\Anaconda3\\lib\\site-packages\\IPython\\core\\display.py:689: UserWarning:\n",
      "\n",
      "Consider using IPython.display.IFrame instead\n",
      "\n"
     ]
    },
    {
     "data": {
      "text/html": [
       "<iframe id=\"igraph\" scrolling=\"no\" style=\"border:none;\" seamless=\"seamless\" src=\"https://plot.ly/~gabriel1200/18.embed\" height=\"288px\" width=\"432px\"></iframe>"
      ],
      "text/plain": [
       "<plotly.tools.PlotlyDisplay object>"
      ]
     },
     "execution_count": 52,
     "metadata": {},
     "output_type": "execute_result"
    }
   ],
   "source": [
    "fig = plt.figure()\n",
    "\n",
    "\n",
    "\n",
    "n, bins, patches = plt.hist([r_as,m_as,u_as],weights = [100 * np.ones_like(r_as)/float(len(r_as)),100 * np.ones_like(m_as)/float(len(m_as)),100 * np.ones_like(u_as)/float(len(u_as))])\n",
    "\n",
    "\n",
    "plotly_fig = tls.mpl_to_plotly( fig )\n",
    "py.iplot(plotly_fig, filename='mpl-multi-histogram')\n"
   ]
  },
  {
   "cell_type": "code",
   "execution_count": 38,
   "metadata": {},
   "outputs": [
    {
     "data": {
      "text/plain": [
       "0.195"
      ]
     },
     "execution_count": 38,
     "metadata": {},
     "output_type": "execute_result"
    }
   ],
   "source": [
    "r_as.min()"
   ]
  },
  {
   "cell_type": "code",
   "execution_count": null,
   "metadata": {},
   "outputs": [],
   "source": [
    "\n",
    "df_sample = outcome\n",
    "\n",
    "\n",
    "colorscale = [\"#f7fbff\",\"#ebf3fb\",\"#deebf7\",\"#d2e3f3\",\"#c6dbef\",\"#b3d2e9\",\"#9ecae1\",\n",
    "              \"#85bcdb\",\"#6baed6\",\"#57a0ce\",\"#4292c6\",\"#3082be\",\"#2171b5\",\"#1361a9\",\n",
    "              \"#08519c\",\"#0b4083\",\"#08306b\"]\n",
    "endpts = list(np.linspace(10, 70, len(colorscale) - 1))\n",
    "fips = df_sample['geo_id'].tolist()\n",
    "values = df_sample[x].tolist()\n",
    "\n",
    "fig = ff.create_choropleth(\n",
    "    fips=fips, values=values,\n",
    "    binning_endpoints=endpts,\n",
    "    colorscale=colorscale,\n",
    "    show_state_data=False,\n",
    "    show_hover=True, centroid_marker={'opacity': 0},\n",
    "    asp=2.9, title='Black 25th Percentile Income Progression',\n",
    "    legend_title='Mean Household Income Rank'\n",
    ")\n",
    "py.iplot(fig, filename='choropleth_full_usa')"
   ]
  },
  {
   "cell_type": "code",
   "execution_count": null,
   "metadata": {},
   "outputs": [],
   "source": [
    "\n",
    "x=\"kfr_black_male_p25\"\n",
    "df_sample = outcome\n",
    "\n",
    "\n",
    "colorscale = [\"#f7fbff\",\"#ebf3fb\",\"#deebf7\",\"#d2e3f3\",\"#c6dbef\",\"#b3d2e9\",\"#9ecae1\",\n",
    "              \"#85bcdb\",\"#6baed6\",\"#57a0ce\",\"#4292c6\",\"#3082be\",\"#2171b5\",\"#1361a9\",\n",
    "              \"#08519c\",\"#0b4083\",\"#08306b\"]\n",
    "endpts = list(np.linspace(10, 70, len(colorscale) - 1))\n",
    "fips = df_sample['geo_id'].tolist()\n",
    "values = df_sample[x].tolist()\n",
    "\n",
    "fig = ff.create_choropleth(\n",
    "    fips=fips, values=values,\n",
    "    binning_endpoints=endpts,\n",
    "    colorscale=colorscale,\n",
    "    show_state_data=False,\n",
    "    show_hover=True, centroid_marker={'opacity': 0},\n",
    "    asp=2.9, title='Black Male 25th Percentile Income Progression',\n",
    "    legend_title='Mean Household Income Rank'\n",
    ")\n",
    "py.iplot(fig, filename='choropleth_full_usa')"
   ]
  },
  {
   "cell_type": "code",
   "execution_count": null,
   "metadata": {},
   "outputs": [],
   "source": [
    "outcome[x].max()"
   ]
  },
  {
   "cell_type": "code",
   "execution_count": null,
   "metadata": {},
   "outputs": [],
   "source": [
    "outcome = outcome.sort_values(x)"
   ]
  },
  {
   "cell_type": "code",
   "execution_count": null,
   "metadata": {},
   "outputs": [],
   "source": [
    "outcome.tail()\\"
   ]
  },
  {
   "cell_type": "code",
   "execution_count": null,
   "metadata": {},
   "outputs": [],
   "source": []
  }
 ],
 "metadata": {
  "kernelspec": {
   "display_name": "Python 3",
   "language": "python",
   "name": "python3"
  },
  "language_info": {
   "codemirror_mode": {
    "name": "ipython",
    "version": 3
   },
   "file_extension": ".py",
   "mimetype": "text/x-python",
   "name": "python",
   "nbconvert_exporter": "python",
   "pygments_lexer": "ipython3",
   "version": "3.6.7"
  }
 },
 "nbformat": 4,
 "nbformat_minor": 2
}
