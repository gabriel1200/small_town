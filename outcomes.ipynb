{
 "cells": [
  {
   "cell_type": "code",
   "execution_count": 1,
   "metadata": {},
   "outputs": [],
   "source": [
    "key =\"2201050767bb417f928e06c7166304c6b41e485d\"\n",
    "b_key =\"641DEDB0-361B-441D-BF2E-215378D97EB4\"\n",
    "\n",
    "from census import Census\n",
    "from us import states\n",
    "%matplotlib inline\n",
    "import seaborn as sns\n",
    "import matplotlib\n",
    "from plotly import plotly as py\n",
    "import plotly\n",
    "#from plotly.offline import download_plotlyjs, init_notebook_mode, plot, iplot\n",
    "import plotly.tools as tls\n",
    "import plotly.graph_objs as go\n",
    "\n",
    "\n",
    "import matplotlib.pyplot as plt\n",
    "import numpy as np\n",
    "import requests\n",
    "import pandas as pd\n",
    "pd.options.mode.chained_assignment = None \n",
    "import os\n",
    "import requests\n",
    "import urllib.request, json \n",
    "import pybea\n",
    "from scipy.stats import norm\n",
    "from matplotlib.ticker import PercentFormatter\n",
    "#init_notebook_mode(connected=True)\n",
    "\n",
    "\n",
    "import plotly.figure_factory as ff\n",
    "matplotlib.style.use('ggplot')\n",
    "plotly.tools.set_credentials_file(username='gabriel1200', api_key='JN4V10kJSdeeOp8MBwdw')\n"
   ]
  },
  {
   "cell_type": "code",
   "execution_count": null,
   "metadata": {},
   "outputs": [],
   "source": []
  },
  {
   "cell_type": "code",
   "execution_count": 2,
   "metadata": {},
   "outputs": [
    {
     "name": "stdout",
     "output_type": "stream",
     "text": [
      "C:\\Users\\Gabriel\\AppData\\Roaming\\jupyter\n"
     ]
    }
   ],
   "source": [
    "from jupyter_core.paths import jupyter_data_dir\n",
    "print(jupyter_data_dir())"
   ]
  },
  {
   "cell_type": "code",
   "execution_count": 5,
   "metadata": {
    "scrolled": true
   },
   "outputs": [
    {
     "ename": "FileNotFoundError",
     "evalue": "File b'data/county_outcomes.csv' does not exist",
     "output_type": "error",
     "traceback": [
      "\u001b[1;31m---------------------------------------------------------------------------\u001b[0m",
      "\u001b[1;31mFileNotFoundError\u001b[0m                         Traceback (most recent call last)",
      "\u001b[1;32m<ipython-input-5-f42c58ce99b4>\u001b[0m in \u001b[0;36m<module>\u001b[1;34m\u001b[0m\n\u001b[1;32m----> 1\u001b[1;33m \u001b[0moutcome\u001b[0m \u001b[1;33m=\u001b[0m \u001b[0mpd\u001b[0m\u001b[1;33m.\u001b[0m\u001b[0mread_csv\u001b[0m\u001b[1;33m(\u001b[0m\u001b[1;34m\"data/county_outcomes.csv\"\u001b[0m\u001b[1;33m)\u001b[0m\u001b[1;33m\u001b[0m\u001b[1;33m\u001b[0m\u001b[0m\n\u001b[0m\u001b[0;32m      2\u001b[0m \u001b[0moutcome\u001b[0m\u001b[1;33m[\u001b[0m\u001b[1;34m'state'\u001b[0m\u001b[1;33m]\u001b[0m \u001b[1;33m=\u001b[0m \u001b[0moutcome\u001b[0m\u001b[1;33m[\u001b[0m\u001b[1;34m'state'\u001b[0m\u001b[1;33m]\u001b[0m\u001b[1;33m.\u001b[0m\u001b[0mastype\u001b[0m\u001b[1;33m(\u001b[0m\u001b[0mstr\u001b[0m\u001b[1;33m)\u001b[0m\u001b[1;33m\u001b[0m\u001b[1;33m\u001b[0m\u001b[0m\n\u001b[0;32m      3\u001b[0m \u001b[0moutcome\u001b[0m\u001b[1;33m[\u001b[0m\u001b[1;34m'state'\u001b[0m\u001b[1;33m]\u001b[0m \u001b[1;33m=\u001b[0m \u001b[0moutcome\u001b[0m\u001b[1;33m[\u001b[0m\u001b[1;34m'state'\u001b[0m\u001b[1;33m]\u001b[0m\u001b[1;33m.\u001b[0m\u001b[0mstr\u001b[0m\u001b[1;33m.\u001b[0m\u001b[0mzfill\u001b[0m\u001b[1;33m(\u001b[0m\u001b[1;36m2\u001b[0m\u001b[1;33m)\u001b[0m\u001b[1;33m\u001b[0m\u001b[1;33m\u001b[0m\u001b[0m\n\u001b[0;32m      4\u001b[0m \u001b[0moutcome\u001b[0m\u001b[1;33m[\u001b[0m\u001b[1;34m'county'\u001b[0m\u001b[1;33m]\u001b[0m \u001b[1;33m=\u001b[0m \u001b[0moutcome\u001b[0m\u001b[1;33m[\u001b[0m\u001b[1;34m'county'\u001b[0m\u001b[1;33m]\u001b[0m\u001b[1;33m.\u001b[0m\u001b[0mastype\u001b[0m\u001b[1;33m(\u001b[0m\u001b[0mstr\u001b[0m\u001b[1;33m)\u001b[0m\u001b[1;33m\u001b[0m\u001b[1;33m\u001b[0m\u001b[0m\n\u001b[0;32m      5\u001b[0m \u001b[0moutcome\u001b[0m\u001b[1;33m[\u001b[0m\u001b[1;34m'county'\u001b[0m\u001b[1;33m]\u001b[0m \u001b[1;33m=\u001b[0m \u001b[0moutcome\u001b[0m\u001b[1;33m[\u001b[0m\u001b[1;34m'county'\u001b[0m\u001b[1;33m]\u001b[0m\u001b[1;33m.\u001b[0m\u001b[0mstr\u001b[0m\u001b[1;33m.\u001b[0m\u001b[0mzfill\u001b[0m\u001b[1;33m(\u001b[0m\u001b[1;36m3\u001b[0m\u001b[1;33m)\u001b[0m\u001b[1;33m\u001b[0m\u001b[1;33m\u001b[0m\u001b[0m\n",
      "\u001b[1;32m~\\Anaconda3\\lib\\site-packages\\pandas\\io\\parsers.py\u001b[0m in \u001b[0;36mparser_f\u001b[1;34m(filepath_or_buffer, sep, delimiter, header, names, index_col, usecols, squeeze, prefix, mangle_dupe_cols, dtype, engine, converters, true_values, false_values, skipinitialspace, skiprows, nrows, na_values, keep_default_na, na_filter, verbose, skip_blank_lines, parse_dates, infer_datetime_format, keep_date_col, date_parser, dayfirst, iterator, chunksize, compression, thousands, decimal, lineterminator, quotechar, quoting, escapechar, comment, encoding, dialect, tupleize_cols, error_bad_lines, warn_bad_lines, skipfooter, doublequote, delim_whitespace, low_memory, memory_map, float_precision)\u001b[0m\n\u001b[0;32m    676\u001b[0m                     skip_blank_lines=skip_blank_lines)\n\u001b[0;32m    677\u001b[0m \u001b[1;33m\u001b[0m\u001b[0m\n\u001b[1;32m--> 678\u001b[1;33m         \u001b[1;32mreturn\u001b[0m \u001b[0m_read\u001b[0m\u001b[1;33m(\u001b[0m\u001b[0mfilepath_or_buffer\u001b[0m\u001b[1;33m,\u001b[0m \u001b[0mkwds\u001b[0m\u001b[1;33m)\u001b[0m\u001b[1;33m\u001b[0m\u001b[1;33m\u001b[0m\u001b[0m\n\u001b[0m\u001b[0;32m    679\u001b[0m \u001b[1;33m\u001b[0m\u001b[0m\n\u001b[0;32m    680\u001b[0m     \u001b[0mparser_f\u001b[0m\u001b[1;33m.\u001b[0m\u001b[0m__name__\u001b[0m \u001b[1;33m=\u001b[0m \u001b[0mname\u001b[0m\u001b[1;33m\u001b[0m\u001b[1;33m\u001b[0m\u001b[0m\n",
      "\u001b[1;32m~\\Anaconda3\\lib\\site-packages\\pandas\\io\\parsers.py\u001b[0m in \u001b[0;36m_read\u001b[1;34m(filepath_or_buffer, kwds)\u001b[0m\n\u001b[0;32m    438\u001b[0m \u001b[1;33m\u001b[0m\u001b[0m\n\u001b[0;32m    439\u001b[0m     \u001b[1;31m# Create the parser.\u001b[0m\u001b[1;33m\u001b[0m\u001b[1;33m\u001b[0m\u001b[1;33m\u001b[0m\u001b[0m\n\u001b[1;32m--> 440\u001b[1;33m     \u001b[0mparser\u001b[0m \u001b[1;33m=\u001b[0m \u001b[0mTextFileReader\u001b[0m\u001b[1;33m(\u001b[0m\u001b[0mfilepath_or_buffer\u001b[0m\u001b[1;33m,\u001b[0m \u001b[1;33m**\u001b[0m\u001b[0mkwds\u001b[0m\u001b[1;33m)\u001b[0m\u001b[1;33m\u001b[0m\u001b[1;33m\u001b[0m\u001b[0m\n\u001b[0m\u001b[0;32m    441\u001b[0m \u001b[1;33m\u001b[0m\u001b[0m\n\u001b[0;32m    442\u001b[0m     \u001b[1;32mif\u001b[0m \u001b[0mchunksize\u001b[0m \u001b[1;32mor\u001b[0m \u001b[0miterator\u001b[0m\u001b[1;33m:\u001b[0m\u001b[1;33m\u001b[0m\u001b[1;33m\u001b[0m\u001b[0m\n",
      "\u001b[1;32m~\\Anaconda3\\lib\\site-packages\\pandas\\io\\parsers.py\u001b[0m in \u001b[0;36m__init__\u001b[1;34m(self, f, engine, **kwds)\u001b[0m\n\u001b[0;32m    785\u001b[0m             \u001b[0mself\u001b[0m\u001b[1;33m.\u001b[0m\u001b[0moptions\u001b[0m\u001b[1;33m[\u001b[0m\u001b[1;34m'has_index_names'\u001b[0m\u001b[1;33m]\u001b[0m \u001b[1;33m=\u001b[0m \u001b[0mkwds\u001b[0m\u001b[1;33m[\u001b[0m\u001b[1;34m'has_index_names'\u001b[0m\u001b[1;33m]\u001b[0m\u001b[1;33m\u001b[0m\u001b[1;33m\u001b[0m\u001b[0m\n\u001b[0;32m    786\u001b[0m \u001b[1;33m\u001b[0m\u001b[0m\n\u001b[1;32m--> 787\u001b[1;33m         \u001b[0mself\u001b[0m\u001b[1;33m.\u001b[0m\u001b[0m_make_engine\u001b[0m\u001b[1;33m(\u001b[0m\u001b[0mself\u001b[0m\u001b[1;33m.\u001b[0m\u001b[0mengine\u001b[0m\u001b[1;33m)\u001b[0m\u001b[1;33m\u001b[0m\u001b[1;33m\u001b[0m\u001b[0m\n\u001b[0m\u001b[0;32m    788\u001b[0m \u001b[1;33m\u001b[0m\u001b[0m\n\u001b[0;32m    789\u001b[0m     \u001b[1;32mdef\u001b[0m \u001b[0mclose\u001b[0m\u001b[1;33m(\u001b[0m\u001b[0mself\u001b[0m\u001b[1;33m)\u001b[0m\u001b[1;33m:\u001b[0m\u001b[1;33m\u001b[0m\u001b[1;33m\u001b[0m\u001b[0m\n",
      "\u001b[1;32m~\\Anaconda3\\lib\\site-packages\\pandas\\io\\parsers.py\u001b[0m in \u001b[0;36m_make_engine\u001b[1;34m(self, engine)\u001b[0m\n\u001b[0;32m   1012\u001b[0m     \u001b[1;32mdef\u001b[0m \u001b[0m_make_engine\u001b[0m\u001b[1;33m(\u001b[0m\u001b[0mself\u001b[0m\u001b[1;33m,\u001b[0m \u001b[0mengine\u001b[0m\u001b[1;33m=\u001b[0m\u001b[1;34m'c'\u001b[0m\u001b[1;33m)\u001b[0m\u001b[1;33m:\u001b[0m\u001b[1;33m\u001b[0m\u001b[1;33m\u001b[0m\u001b[0m\n\u001b[0;32m   1013\u001b[0m         \u001b[1;32mif\u001b[0m \u001b[0mengine\u001b[0m \u001b[1;33m==\u001b[0m \u001b[1;34m'c'\u001b[0m\u001b[1;33m:\u001b[0m\u001b[1;33m\u001b[0m\u001b[1;33m\u001b[0m\u001b[0m\n\u001b[1;32m-> 1014\u001b[1;33m             \u001b[0mself\u001b[0m\u001b[1;33m.\u001b[0m\u001b[0m_engine\u001b[0m \u001b[1;33m=\u001b[0m \u001b[0mCParserWrapper\u001b[0m\u001b[1;33m(\u001b[0m\u001b[0mself\u001b[0m\u001b[1;33m.\u001b[0m\u001b[0mf\u001b[0m\u001b[1;33m,\u001b[0m \u001b[1;33m**\u001b[0m\u001b[0mself\u001b[0m\u001b[1;33m.\u001b[0m\u001b[0moptions\u001b[0m\u001b[1;33m)\u001b[0m\u001b[1;33m\u001b[0m\u001b[1;33m\u001b[0m\u001b[0m\n\u001b[0m\u001b[0;32m   1015\u001b[0m         \u001b[1;32melse\u001b[0m\u001b[1;33m:\u001b[0m\u001b[1;33m\u001b[0m\u001b[1;33m\u001b[0m\u001b[0m\n\u001b[0;32m   1016\u001b[0m             \u001b[1;32mif\u001b[0m \u001b[0mengine\u001b[0m \u001b[1;33m==\u001b[0m \u001b[1;34m'python'\u001b[0m\u001b[1;33m:\u001b[0m\u001b[1;33m\u001b[0m\u001b[1;33m\u001b[0m\u001b[0m\n",
      "\u001b[1;32m~\\Anaconda3\\lib\\site-packages\\pandas\\io\\parsers.py\u001b[0m in \u001b[0;36m__init__\u001b[1;34m(self, src, **kwds)\u001b[0m\n\u001b[0;32m   1706\u001b[0m         \u001b[0mkwds\u001b[0m\u001b[1;33m[\u001b[0m\u001b[1;34m'usecols'\u001b[0m\u001b[1;33m]\u001b[0m \u001b[1;33m=\u001b[0m \u001b[0mself\u001b[0m\u001b[1;33m.\u001b[0m\u001b[0musecols\u001b[0m\u001b[1;33m\u001b[0m\u001b[1;33m\u001b[0m\u001b[0m\n\u001b[0;32m   1707\u001b[0m \u001b[1;33m\u001b[0m\u001b[0m\n\u001b[1;32m-> 1708\u001b[1;33m         \u001b[0mself\u001b[0m\u001b[1;33m.\u001b[0m\u001b[0m_reader\u001b[0m \u001b[1;33m=\u001b[0m \u001b[0mparsers\u001b[0m\u001b[1;33m.\u001b[0m\u001b[0mTextReader\u001b[0m\u001b[1;33m(\u001b[0m\u001b[0msrc\u001b[0m\u001b[1;33m,\u001b[0m \u001b[1;33m**\u001b[0m\u001b[0mkwds\u001b[0m\u001b[1;33m)\u001b[0m\u001b[1;33m\u001b[0m\u001b[1;33m\u001b[0m\u001b[0m\n\u001b[0m\u001b[0;32m   1709\u001b[0m \u001b[1;33m\u001b[0m\u001b[0m\n\u001b[0;32m   1710\u001b[0m         \u001b[0mpassed_names\u001b[0m \u001b[1;33m=\u001b[0m \u001b[0mself\u001b[0m\u001b[1;33m.\u001b[0m\u001b[0mnames\u001b[0m \u001b[1;32mis\u001b[0m \u001b[1;32mNone\u001b[0m\u001b[1;33m\u001b[0m\u001b[1;33m\u001b[0m\u001b[0m\n",
      "\u001b[1;32mpandas\\_libs\\parsers.pyx\u001b[0m in \u001b[0;36mpandas._libs.parsers.TextReader.__cinit__\u001b[1;34m()\u001b[0m\n",
      "\u001b[1;32mpandas\\_libs\\parsers.pyx\u001b[0m in \u001b[0;36mpandas._libs.parsers.TextReader._setup_parser_source\u001b[1;34m()\u001b[0m\n",
      "\u001b[1;31mFileNotFoundError\u001b[0m: File b'data/county_outcomes.csv' does not exist"
     ]
    }
   ],
   "source": [
    "outcome = pd.read_csv(\"data/county_outcomes.csv\")\n",
    "outcome['state'] = outcome['state'].astype(str)\n",
    "outcome['state'] = outcome['state'].str.zfill(2)\n",
    "outcome['county'] = outcome['county'].astype(str)\n",
    "outcome['county'] = outcome['county'].str.zfill(3)\n",
    "outcome['geo_id'] =  outcome['state']+outcome['county'] \n",
    "x=\"kfr_black_pooled_p25\"\n",
    "y=\"kfr_hisp_pooled_p25\"\n",
    "z=\"kfr_white_pooled_p25\"\n",
    "n = \"kfr_pooled_pooled_p25\"\n",
    "outcome =outcome.dropna(subset=[x,z])\n",
    "\n",
    "len(outcome)\n",
    "\n",
    "r_as = outcome[x].dropna().round(4) \n",
    "\n",
    "m_as = outcome[y].dropna().round(4)\n",
    "\n",
    "u_as = outcome[z].dropna().round(4) \n",
    "\n",
    "n_as = outcome[n].dropna().round(4) \n",
    "d_as = u_as - r_as\n",
    "outcome['diff'] = d_as\n",
    "outcome = outcome.sort_values(by=['diff'])\n",
    "outcome.head()"
   ]
  },
  {
   "cell_type": "code",
   "execution_count": 17,
   "metadata": {},
   "outputs": [
    {
     "name": "stdout",
     "output_type": "stream",
     "text": [
      "The draw time for this plot will be slow for clients without much RAM.\n"
     ]
    },
    {
     "name": "stderr",
     "output_type": "stream",
     "text": [
      "C:\\Users\\Gabriel\\Anaconda3\\lib\\site-packages\\plotly\\api\\v1\\clientresp.py:40: UserWarning:\n",
      "\n",
      "Estimated Draw Time Slow\n",
      "\n",
      "C:\\Users\\Gabriel\\Anaconda3\\lib\\site-packages\\IPython\\core\\display.py:689: UserWarning:\n",
      "\n",
      "Consider using IPython.display.IFrame instead\n",
      "\n"
     ]
    },
    {
     "data": {
      "text/html": [
       "<iframe id=\"igraph\" scrolling=\"no\" style=\"border:none;\" seamless=\"seamless\" src=\"https://plot.ly/~gabriel1200/14.embed\" height=\"450px\" width=\"900px\"></iframe>"
      ],
      "text/plain": [
       "<plotly.tools.PlotlyDisplay object>"
      ]
     },
     "execution_count": 17,
     "metadata": {},
     "output_type": "execute_result"
    }
   ],
   "source": [
    "x=\"kfr_black_pooled_p25\"\n",
    "\n",
    "d_as *=100\n",
    "\n",
    "df_sample = outcome\n",
    "\n",
    "diff = outcome[z] - outcome[x]\n",
    "colorscale = [\n",
    "    'rgb(193, 193, 193)',\n",
    "    'rgb(239,239,239)',\n",
    "    'rgb(195, 196, 222)',\n",
    "    'rgb(144,148,194)',\n",
    "    'rgb(101,104,168)',\n",
    "    'rgb(65, 53, 132)'\n",
    "]\n",
    "endpts = list(np.linspace(-15, 30, len(colorscale) - 1))\n",
    "fips = df_sample['geo_id'].tolist()\n",
    "values = d_as.tolist()\n",
    "\n",
    "fig = ff.create_choropleth(\n",
    "    fips=fips, values=values,\n",
    "    binning_endpoints=endpts,\n",
    "    colorscale=colorscale,\n",
    "    show_state_data=False,\n",
    "    show_hover=True, centroid_marker={'opacity': 0},\n",
    "    asp=2.9, title='25th Percentile Household Income Progression',\n",
    "    legend_title='Projected Household Income Rank'\n",
    ")\n",
    "py.iplot(fig, filename='choropleth_full_usa')"
   ]
  },
  {
   "cell_type": "code",
   "execution_count": 18,
   "metadata": {},
   "outputs": [
    {
     "data": {
      "text/plain": [
       "-14.369999999999994"
      ]
     },
     "execution_count": 18,
     "metadata": {},
     "output_type": "execute_result"
    }
   ],
   "source": [
    "d_as.min()"
   ]
  },
  {
   "cell_type": "code",
   "execution_count": null,
   "metadata": {},
   "outputs": [],
   "source": [
    "fig = plt.figure()\n",
    "\n",
    "\n",
    "\n",
    "n, bins, patches = plt.hist([r_as,m_as,u_as],weights = [100 * np.ones_like(r_as)/float(len(r_as)),100 * np.ones_like(m_as)/float(len(m_as)),100 * np.ones_like(u_as)/float(len(u_as))])\n",
    "plt.title=title = 'Average High and Low Temperatures in New York'\n",
    "layout = dict(title = 'Average High and Low Temperatures in New York',\n",
    "              xaxis = dict(title = 'Month'),\n",
    "              yaxis = dict(title = 'Temperature (degrees F)'),\n",
    "              )\n",
    "\n",
    "plotly_fig = tls.mpl_to_plotly( fig )\n",
    "\n",
    "\n",
    "\n",
    "py.iplot(plotly_fig, filename='mpl-multi-histogram',layout=layout)\n"
   ]
  },
  {
   "cell_type": "code",
   "execution_count": 4,
   "metadata": {},
   "outputs": [
    {
     "ename": "NameError",
     "evalue": "name 'r_as' is not defined",
     "output_type": "error",
     "traceback": [
      "\u001b[1;31m---------------------------------------------------------------------------\u001b[0m",
      "\u001b[1;31mNameError\u001b[0m                                 Traceback (most recent call last)",
      "\u001b[1;32m<ipython-input-4-efb5b9090593>\u001b[0m in \u001b[0;36m<module>\u001b[1;34m\u001b[0m\n\u001b[0;32m      3\u001b[0m \u001b[1;33m\u001b[0m\u001b[0m\n\u001b[0;32m      4\u001b[0m trace1 = go.Histogram(\n\u001b[1;32m----> 5\u001b[1;33m     \u001b[0mx\u001b[0m\u001b[1;33m=\u001b[0m\u001b[0mr_as\u001b[0m\u001b[1;33m,\u001b[0m\u001b[1;33m\u001b[0m\u001b[1;33m\u001b[0m\u001b[0m\n\u001b[0m\u001b[0;32m      6\u001b[0m     \u001b[0mhistnorm\u001b[0m\u001b[1;33m=\u001b[0m\u001b[1;34m'probability'\u001b[0m\u001b[1;33m,\u001b[0m\u001b[1;33m\u001b[0m\u001b[1;33m\u001b[0m\u001b[0m\n\u001b[0;32m      7\u001b[0m     xbins=dict(\n",
      "\u001b[1;31mNameError\u001b[0m: name 'r_as' is not defined"
     ]
    }
   ],
   "source": [
    "x0 = np.random.randn(500)\n",
    "x1 = np.random.randn(500)+1\n",
    "\n",
    "trace1 = go.Histogram(\n",
    "    x=r_as,\n",
    "    histnorm='probability',\n",
    "    xbins=dict(\n",
    "        start=0,\n",
    "        end=.7,\n",
    "        size=0.03\n",
    "    ),\n",
    "    name='Black',\n",
    "\n",
    ")\n",
    "trace2 = go.Histogram(\n",
    "    histnorm='probability',\n",
    "    x=u_as,\n",
    "    name='White',\n",
    "    xbins=dict(\n",
    "        start=0,\n",
    "        end=.7,\n",
    "        size=0.03\n",
    "    ),\n",
    ")\n",
    "trace3 = go.Histogram(\n",
    "    histnorm='probability',\n",
    "    x=m_as,\n",
    "    xbins=dict(\n",
    "        start=0,\n",
    "        end=.7,\n",
    "        size=0.03\n",
    "    ),\n",
    "     name='Hispanic',\n",
    ")\n",
    "trace4 = go.Histogram(\n",
    "    histnorm='probability',\n",
    "    x=n_as,\n",
    "    xbins=dict(\n",
    "        start=0,\n",
    "        end=.7,\n",
    "        size=0.03\n",
    "    ),\n",
    "     name='All Children',\n",
    ")\n",
    "trace5 = go.Histogram(\n",
    "    x=u_as - r_as,\n",
    "    histnorm='probability',\n",
    "    xbins=dict(\n",
    "        start=-1,\n",
    "        end=.5,\n",
    "        size=0.03\n",
    "    ),\n",
    "    name='Black-White Difference',\n",
    "\n",
    ")\n",
    "#data = [trace1, trace3,trace2,trace4]\n",
    "data = [trace5]\n",
    "layout = go.Layout(\n",
    "    title='Predicted Income Rank for Children at 25th Percentile by County',\n",
    "    xaxis=dict(\n",
    "        title='Income Rank',\n",
    "        tickmode='linear',\n",
    "        ticks='outside',\n",
    "        tick0=0,\n",
    "        dtick=0.03,\n",
    "        ticklen=8,\n",
    "        tickwidth=4,\n",
    "        tickcolor='#000'\n",
    "        \n",
    "    ),\n",
    "    yaxis=dict(\n",
    "        title='Frequency',\n",
    "        tickformat =',.0%',\n",
    "    ),\n",
    "    bargap=0.2,\n",
    "    bargroupgap=0.1\n",
    ")\n",
    "fig = go.Figure(data=data, layout=layout)\n",
    "py.iplot(fig, filename='styled histogram')"
   ]
  },
  {
   "cell_type": "code",
   "execution_count": null,
   "metadata": {},
   "outputs": [],
   "source": [
    "var =\"kfr__pooled_p25\"\n",
    "df_sample = outcome\n",
    "\n",
    "\n",
    "colorscale = [\"#f7fbff\",\"#ebf3fb\",\"#deebf7\",\"#d2e3f3\",\"#c6dbef\",\"#b3d2e9\",\"#9ecae1\",\n",
    "              \"#85bcdb\",\"#6baed6\",\"#57a0ce\",\"#4292c6\",\"#3082be\",\"#2171b5\",\"#1361a9\",\n",
    "              \"#08519c\",\"#0b4083\",\"#08306b\"]\n",
    "endpts = list(np.linspace(10, 70, len(colorscale) - 1))\n",
    "fips = df_sample['geo_id'].tolist()\n",
    "values = df_sample[var].tolist()\n",
    "\n",
    "fig = ff.create_choropleth(\n",
    "    fips=fips, values=values,\n",
    "    binning_endpoints=endpts,\n",
    "    colorscale=colorscale,\n",
    "    show_state_data=False,\n",
    "    show_hover=True, centroid_marker={'opacity': 0},\n",
    "    asp=2.9, title='Black 25th Percentile Income Progression',\n",
    "    legend_title='Mean Household Income Rank'\n",
    ")\n",
    "py.iplot(fig, filename='choropleth_full_usa')"
   ]
  },
  {
   "cell_type": "code",
   "execution_count": 39,
   "metadata": {},
   "outputs": [
    {
     "data": {
      "text/plain": [
       "0       0.1003\n",
       "1       0.1251\n",
       "2       0.1263\n",
       "3       0.0884\n",
       "4       0.0938\n",
       "5       0.1680\n",
       "6       0.1149\n",
       "7       0.0848\n",
       "8       0.0631\n",
       "9       0.0791\n",
       "10      0.0932\n",
       "11      0.1749\n",
       "12      0.1002\n",
       "13      0.0960\n",
       "14      0.0554\n",
       "15      0.1090\n",
       "16      0.0969\n",
       "17      0.1009\n",
       "18      0.1042\n",
       "19      0.1397\n",
       "20      0.1052\n",
       "21      0.0772\n",
       "22      0.1144\n",
       "23      0.1227\n",
       "24      0.0482\n",
       "25      0.1074\n",
       "26      0.1123\n",
       "27      0.0829\n",
       "28      0.0819\n",
       "29      0.0535\n",
       "         ...  \n",
       "3065    0.1733\n",
       "3067    0.0102\n",
       "3073    0.1241\n",
       "3074    0.1512\n",
       "3075    0.1336\n",
       "3077    0.1236\n",
       "3081    0.0356\n",
       "3082    0.1054\n",
       "3083    0.1234\n",
       "3086    0.1318\n",
       "3087    0.1895\n",
       "3090    0.1600\n",
       "3091    0.0281\n",
       "3093    0.1414\n",
       "3095    0.0163\n",
       "3097    0.1446\n",
       "3099    0.1137\n",
       "3101    0.0163\n",
       "3102    0.1091\n",
       "3105    0.1468\n",
       "3110    0.0983\n",
       "3112    0.1132\n",
       "3113    0.0980\n",
       "3116    0.1157\n",
       "3117    0.1580\n",
       "3118   -0.0181\n",
       "3124    0.0859\n",
       "3128    0.0941\n",
       "3130    0.1592\n",
       "3136    0.1565\n",
       "Length: 1915, dtype: float64"
      ]
     },
     "execution_count": 39,
     "metadata": {},
     "output_type": "execute_result"
    }
   ],
   "source": [
    "u_as - r_as"
   ]
  },
  {
   "cell_type": "code",
   "execution_count": null,
   "metadata": {},
   "outputs": [],
   "source": [
    "outcome[x].max()"
   ]
  },
  {
   "cell_type": "code",
   "execution_count": null,
   "metadata": {},
   "outputs": [],
   "source": [
    "outcome = outcome.sort_values(x)"
   ]
  },
  {
   "cell_type": "code",
   "execution_count": null,
   "metadata": {},
   "outputs": [],
   "source": [
    "outcome.tail()\\"
   ]
  },
  {
   "cell_type": "code",
   "execution_count": null,
   "metadata": {},
   "outputs": [],
   "source": [
    "m_as.max()"
   ]
  },
  {
   "cell_type": "code",
   "execution_count": null,
   "metadata": {},
   "outputs": [],
   "source": []
  }
 ],
 "metadata": {
  "kernelspec": {
   "display_name": "Python 3",
   "language": "python",
   "name": "python3"
  },
  "language_info": {
   "codemirror_mode": {
    "name": "ipython",
    "version": 3
   },
   "file_extension": ".py",
   "mimetype": "text/x-python",
   "name": "python",
   "nbconvert_exporter": "python",
   "pygments_lexer": "ipython3",
   "version": "3.6.7"
  }
 },
 "nbformat": 4,
 "nbformat_minor": 2
}
